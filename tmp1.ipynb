{
 "cells": [
  {
   "cell_type": "code",
   "execution_count": 6,
   "metadata": {},
   "outputs": [],
   "source": [
    "from bs4 import BeautifulSoup\n",
    "import requests\n",
    "import time\n",
    "import csv\n",
    "#import dict_builder as db\n",
    "import re\n",
    "import pandas as pd\n",
    "import requests\n",
    "import numpy as np\n",
    "#from __future__ import unicode_literals \n",
    "#from bosonnlp import BosonNLP\n",
    "#nlp = BosonNLP('Yy7Tpb83.27824.Zdrfgp6JtKTf')\n",
    "import os\n",
    "import random\n",
    "import pickle\n",
    "import nltk\n",
    "Porter = nltk.stem.PorterStemmer()\n",
    "from bert_serving.client import BertClient\n",
    "from scipy import spatial\n",
    "bc = BertClient()\n",
    "\n",
    "def readfile(filename,method='utf-8'):\n",
    "    rawlist = []\n",
    "    with open(filename,'r+', encoding=method) as csvfile:\n",
    "        rows = csv.reader(csvfile)\n",
    "        for row in rows:\n",
    "            rawlist.append(row)\n",
    "    return rawlist\n",
    "\n",
    "def writefile(filename,inputlist,method='utf-8'):\n",
    "    with open(filename,'a+', encoding=method) as csvfile:\n",
    "        writer = csv.writer(csvfile, delimiter=',')\n",
    "        for row in inputlist:\n",
    "            writer.writerow(row)"
   ]
  },
  {
   "cell_type": "code",
   "execution_count": 7,
   "metadata": {},
   "outputs": [],
   "source": [
    "chcut = []\n",
    "with (open('chcut.pickle', \"rb\")) as openfile:\n",
    "    chcut = pickle.load(openfile)\n",
    "encut = []\n",
    "with (open('encut.pickle', \"rb\")) as openfile:\n",
    "    encut = pickle.load(openfile)"
   ]
  },
  {
   "cell_type": "code",
   "execution_count": 8,
   "metadata": {},
   "outputs": [
    {
     "name": "stdout",
     "output_type": "stream",
     "text": [
      "0\n",
      "50\n",
      "100\n",
      "150\n",
      "200\n",
      "250\n",
      "300\n",
      "350\n",
      "400\n",
      "450\n",
      "500\n",
      "550\n",
      "600\n",
      "650\n",
      "700\n",
      "750\n",
      "800\n",
      "850\n",
      "900\n",
      "950\n",
      "1000\n",
      "1050\n",
      "1100\n",
      "1150\n",
      "1200\n",
      "1250\n",
      "1300\n",
      "1350\n",
      "1400\n",
      "1450\n",
      "1500\n",
      "1550\n",
      "1600\n",
      "1650\n",
      "1700\n",
      "1750\n",
      "1800\n",
      "1850\n",
      "1900\n",
      "1950\n",
      "2000\n",
      "2050\n",
      "2100\n",
      "2150\n",
      "2200\n"
     ]
    }
   ],
   "source": [
    "chinese_bertvectors = {}\n",
    "for i in range(0,len(chcut)):\n",
    "    if i%50==0:\n",
    "        print(i)\n",
    "    for j in range(0,len(chcut[i])):\n",
    "        for word in chcut[i][j]:\n",
    "            if not word in chinese_bertvectors:\n",
    "                if not word == '':\n",
    "                    chinese_bertvectors[word] = bc.encode([word])"
   ]
  },
  {
   "cell_type": "code",
   "execution_count": 9,
   "metadata": {},
   "outputs": [],
   "source": [
    "with open('chinese_bertvectors.pickle', 'wb') as file:\n",
    "    pickle.dump(chinese_bertvectors, file, protocol=pickle.HIGHEST_PROTOCOL)"
   ]
  },
  {
   "cell_type": "code",
   "execution_count": 6,
   "metadata": {},
   "outputs": [],
   "source": [
    "#file = open('bv1.pickle', 'rb')\n",
    "#x = pickle.load(file)"
   ]
  },
  {
   "cell_type": "code",
   "execution_count": 8,
   "metadata": {},
   "outputs": [],
   "source": [
    "#objects = []\n",
    "#with (open(\"myfile\", \"rb\")) as openfile:\n",
    "#    while True:\n",
    "#        try:\n",
    "#            objects.append(pickle.load(openfile))\n",
    "#        except EOFError:\n",
    "#            break"
   ]
  }
 ],
 "metadata": {
  "kernelspec": {
   "display_name": "Python 3",
   "language": "python",
   "name": "python3"
  },
  "language_info": {
   "codemirror_mode": {
    "name": "ipython",
    "version": 3
   },
   "file_extension": ".py",
   "mimetype": "text/x-python",
   "name": "python",
   "nbconvert_exporter": "python",
   "pygments_lexer": "ipython3",
   "version": "3.6.7"
  }
 },
 "nbformat": 4,
 "nbformat_minor": 2
}
