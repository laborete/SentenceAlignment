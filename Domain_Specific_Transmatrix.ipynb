{
 "cells": [
  {
   "cell_type": "code",
   "execution_count": 1,
   "metadata": {},
   "outputs": [],
   "source": [
    "#from bert_serving.client import BertClient\n",
    "import numpy as np\n",
    "import pandas as pd\n",
    "import nltk\n",
    "Porter = nltk.stem.PorterStemmer()\n",
    "import csv\n",
    "import pickle\n",
    "import re\n",
    "import random\n",
    "from gensim.models.word2vec import Word2Vec\n",
    "from gensim.models.fasttext import FastText\n",
    "import matplotlib.pyplot as plt\n",
    "from sklearn.metrics import mean_squared_error\n",
    "from sklearn.decomposition import PCA\n",
    "from sklearn import preprocessing\n",
    "from scipy import spatial\n",
    "import pickle"
   ]
  },
  {
   "cell_type": "code",
   "execution_count": 2,
   "metadata": {},
   "outputs": [],
   "source": [
    "def readfile(filename,method='utf-8'):\n",
    "    rawlist = []\n",
    "    with open(filename,'r+', encoding=method) as csvfile:\n",
    "        rows = csv.reader(csvfile)\n",
    "        for row in rows:\n",
    "            rawlist.append(row)\n",
    "    return rawlist\n",
    "\n",
    "def writefile(filename,inputlist,method='utf-8'):\n",
    "    with open(filename,'a+', encoding=method) as csvfile:\n",
    "        writer = csv.writer(csvfile, delimiter=',')\n",
    "        for row in inputlist:\n",
    "            writer.writerow(row)\n",
    "            \n",
    "def regex(a):\n",
    "    reg = []\n",
    "    #a = re.sub('[a-zA-Z]','',a)\n",
    "    a = re.sub('[,、：；！？，。－\"\\']','#',a)\n",
    "    a = re.sub('[「」(){}:;!?]','',a)\n",
    "    a = re.sub('\\n','',a)\n",
    "    #a = re.sub('[(),{}\\u3000\\*\\|=-\\[\\]\\n.]','',a)\n",
    "    #a = re.sub(u\"\\\\（.*?\\\\）|\\\\『.*?』|\\\\「.*?」|\\\\〔.*?〕|\\\\[.*?]|\\\\〈.*?〉\", '', a)\n",
    "    reg = a.split('#')\n",
    "    return reg\n",
    "\n",
    "def en_regex(a):\n",
    "    #a = re.sub('[a-zA-Z]','',a)\n",
    "    a = re.sub('[(){}.:,;!?：；！？，。－\"\\']','',a)\n",
    "    #a = re.sub(',',' ',a)\n",
    "    #a = re.sub('\\n','',a)\n",
    "    #a = re.sub('[(),{}\\u3000\\*\\|=-\\[\\]\\n.]','',a)\n",
    "    #a = re.sub(u\"\\\\（.*?\\\\）|\\\\『.*?』|\\\\「.*?」|\\\\〔.*?〕|\\\\[.*?]|\\\\〈.*?〉\", '', a)\n",
    "    if not a.find('to ')==-1:\n",
    "        a = a[a.find('to ')+3:]\n",
    "    return a\n",
    "\n",
    "def isEnglish(s):\n",
    "    try:\n",
    "        s.encode(encoding='utf-8').decode('ascii')\n",
    "    except UnicodeDecodeError:\n",
    "        return False\n",
    "    else:\n",
    "        return True"
   ]
  },
  {
   "cell_type": "code",
   "execution_count": 3,
   "metadata": {},
   "outputs": [],
   "source": [
    "#bc = BertClient()"
   ]
  },
  {
   "cell_type": "code",
   "execution_count": 3,
   "metadata": {},
   "outputs": [
    {
     "data": {
      "text/plain": [
       "114442"
      ]
     },
     "execution_count": 3,
     "metadata": {},
     "output_type": "execute_result"
    }
   ],
   "source": [
    "with open('newdict.pickle','rb') as f:\n",
    "    adict = pickle.load(f)\n",
    "len(adict)"
   ]
  },
  {
   "cell_type": "code",
   "execution_count": 4,
   "metadata": {},
   "outputs": [],
   "source": [
    "#FTzh = FastText.load('FTzh.model')\n",
    "#FTen = FastText.load('FTen.model')\n",
    "CBzh = Word2Vec.load('./轉換矩陣各種w2vc的model/CBzh.model')\n",
    "CBen = Word2Vec.load('CBen0505.model')\n",
    "#SGzh = Word2Vec.load('SGzh.model')\n",
    "#SGen = Word2Vec.load('SGen.model')"
   ]
  },
  {
   "cell_type": "code",
   "execution_count": 5,
   "metadata": {},
   "outputs": [
    {
     "name": "stdout",
     "output_type": "stream",
     "text": [
      "2726\n",
      "12140\n",
      "15914\n",
      "25695\n",
      "25695\n"
     ]
    }
   ],
   "source": [
    "with open('./CUTs/paper_chcutBA.pickle','rb') as f:\n",
    "    zh_data = pickle.load(f)\n",
    "    print(len(zh_data))\n",
    "with open('./CUTs/paper_chcutEE.pickle','rb') as f:\n",
    "    tmp = pickle.load(f)\n",
    "    zh_data = zh_data+tmp\n",
    "    print(len(zh_data))\n",
    "with open('./CUTs/paper_chcutMED.pickle','rb') as f:\n",
    "    tmp = pickle.load(f)\n",
    "    zh_data = zh_data+tmp\n",
    "    print(len(zh_data))\n",
    "with open('./CUTs/paper_chcutENG.pickle','rb') as f:\n",
    "    tmp = pickle.load(f)\n",
    "    zh_data = zh_data+tmp\n",
    "    print(len(zh_data))\n",
    "with open('airiti_english_corpus.pickle','rb') as f:\n",
    "    en_data = pickle.load(f)\n",
    "#with open('./CUTs/paper_encutBA.pickle','rb') as f:\n",
    "#    en_data = pickle.load(f)\n",
    "#    print(len(en_data))\n",
    "#with open('./CUTs/paper_encutEE.pickle','rb') as f:\n",
    "#    tmp = pickle.load(f)\n",
    "#    en_data = en_data+tmp\n",
    "#    print(len(en_data))\n",
    "#with open('./CUTs/paper_encutMED.pickle','rb') as f:\n",
    "#    tmp = pickle.load(f)\n",
    "#    en_data = en_data+tmp\n",
    "#    print(len(en_data))\n",
    "#with open('./CUTs/paper_encutENG.pickle','rb') as f:\n",
    "#    tmp = pickle.load(f)\n",
    "#    en_data = en_data+tmp\n",
    "    print(len(en_data))"
   ]
  },
  {
   "cell_type": "code",
   "execution_count": 6,
   "metadata": {},
   "outputs": [],
   "source": [
    "def makedic(data):\n",
    "    dic = {}\n",
    "    for i in range(0,len(data)):\n",
    "        for word in data[i]:\n",
    "            if word not in dic:\n",
    "                dic[word] = 1\n",
    "            else:\n",
    "                tmp = dic[word]\n",
    "                dic[word] = tmp+1\n",
    "    return dic"
   ]
  },
  {
   "cell_type": "code",
   "execution_count": 7,
   "metadata": {},
   "outputs": [],
   "source": [
    "def processing(rawdata):\n",
    "    tmp = []\n",
    "    final = []\n",
    "    for i in range(0,len(rawdata)):\n",
    "        for j in range(0,len(rawdata[i])):\n",
    "            for item in rawdata[i][j]:\n",
    "                if not item == '':\n",
    "                    tmp.append(item)\n",
    "        final.append(tmp)\n",
    "        tmp = []\n",
    "    return final"
   ]
  },
  {
   "cell_type": "code",
   "execution_count": 8,
   "metadata": {},
   "outputs": [],
   "source": [
    "def findpairs(source,dic):\n",
    "    pairs = []\n",
    "    for word in source:\n",
    "        freq = source[word]\n",
    "        try:\n",
    "            means = dic[word]\n",
    "        except:\n",
    "            continue\n",
    "        #print(len(means))\n",
    "        #if len(means)==1 and isEnglish(means[0]) and len(means[0])>=2:\n",
    "        #    tmp = en_regex(means[0]).strip()\n",
    "        #    if not len(tmp.split())>3 and not len(tmp)>20:\n",
    "        #        pairs.append([word,tmp,freq])\n",
    "        if not len(means)==0 and isEnglish(means[0]) and len(means[0])>=2:\n",
    "            tmp = en_regex(means[0]).strip()\n",
    "            if not len(tmp.split())>3 and not len(tmp)>20 and freq>10:\n",
    "                pairs.append([word,tmp,freq])\n",
    "    return pairs"
   ]
  },
  {
   "cell_type": "code",
   "execution_count": 25,
   "metadata": {},
   "outputs": [
    {
     "data": {
      "text/plain": [
       "50009"
      ]
     },
     "execution_count": 25,
     "metadata": {},
     "output_type": "execute_result"
    }
   ],
   "source": [
    "newdict = dict()\n",
    "for word in adict:\n",
    "    if not adict[word] == []:\n",
    "        for means in adict[word]:\n",
    "            if not ' ' in means:\n",
    "                tmp.append(means.lower())\n",
    "        if not tmp == []:\n",
    "            newdict[word] = tmp\n",
    "        tmp = []\n",
    "len(newdict)"
   ]
  },
  {
   "cell_type": "code",
   "execution_count": 26,
   "metadata": {},
   "outputs": [],
   "source": [
    "alist = []\n",
    "for key, value in newdict.items():\n",
    "    temp = [key,value]\n",
    "    alist.append(temp)"
   ]
  },
  {
   "cell_type": "code",
   "execution_count": 29,
   "metadata": {},
   "outputs": [],
   "source": [
    "zhf = processing(zh_data)\n",
    "enf = processing(en_data)\n",
    "zhdic = makedic(zhf)\n",
    "endic = makedic(enf)"
   ]
  },
  {
   "cell_type": "code",
   "execution_count": 37,
   "metadata": {},
   "outputs": [
    {
     "data": {
      "text/plain": [
       "6771"
      ]
     },
     "execution_count": 37,
     "metadata": {},
     "output_type": "execute_result"
    }
   ],
   "source": [
    "pairs = sorted(findpairs(zhdic,newdict),key=lambda x:x[2],reverse=True)\n",
    "len(pairs)"
   ]
  },
  {
   "cell_type": "code",
   "execution_count": 134,
   "metadata": {},
   "outputs": [],
   "source": [
    "#chinese_numbers = ['一','二','三','四','五','六','七','八','九']\n",
    "#for line in pairs:\n",
    "#    if line[0] in chinese_numbers:\n",
    "#        print(line)"
   ]
  },
  {
   "cell_type": "code",
   "execution_count": 33,
   "metadata": {},
   "outputs": [],
   "source": [
    "def make_pairvector(pairs,zhmodel,enmodel):\n",
    "    pairvector = []\n",
    "    for i in range(0,len(pairs)):\n",
    "        add = 1\n",
    "        if not pairs[i][1] == '':\n",
    "            try:\n",
    "                ch = zhmodel[pairs[i][0]]\n",
    "                en = enmodel[pairs[i][1]]\n",
    "            except:\n",
    "                #print(pairs[i][1],'not found')\n",
    "                add = 0\n",
    "        if add==1:\n",
    "            pairvector.append([ch,en,pairs[i][0],pairs[i][1]])\n",
    "    return pairvector"
   ]
  },
  {
   "cell_type": "code",
   "execution_count": 34,
   "metadata": {},
   "outputs": [],
   "source": [
    "def pairs_for_ml(pairvector):\n",
    "    chcombined = []\n",
    "    encombined = []\n",
    "    for i in range(0,len(pairvector)):\n",
    "        chcombined.append(np.asarray(pairvector[i][0]))\n",
    "        encombined.append(np.asarray(pairvector[i][1]))\n",
    "    zh = np.array(chcombined)\n",
    "    en = np.array(encombined)\n",
    "    return(zh,en)"
   ]
  },
  {
   "cell_type": "code",
   "execution_count": 47,
   "metadata": {},
   "outputs": [
    {
     "name": "stderr",
     "output_type": "stream",
     "text": [
      "/Library/Frameworks/Python.framework/Versions/3.6/lib/python3.6/site-packages/ipykernel_launcher.py:7: DeprecationWarning: Call to deprecated `__getitem__` (Method will be removed in 4.0.0, use self.wv.__getitem__() instead).\n",
      "  import sys\n",
      "/Library/Frameworks/Python.framework/Versions/3.6/lib/python3.6/site-packages/ipykernel_launcher.py:8: DeprecationWarning: Call to deprecated `__getitem__` (Method will be removed in 4.0.0, use self.wv.__getitem__() instead).\n",
      "  \n"
     ]
    }
   ],
   "source": [
    "#FTpv = make_pairvector(pairs,FTzh,FTen)\n",
    "CBpv = make_pairvector(pairs[28:],CBzh,CBen)\n",
    "#SGpv = make_pairvector(pairs,SGzh,SGen)"
   ]
  },
  {
   "cell_type": "code",
   "execution_count": 48,
   "metadata": {},
   "outputs": [
    {
     "data": {
      "text/plain": [
       "(5771, 200)"
      ]
     },
     "execution_count": 48,
     "metadata": {},
     "output_type": "execute_result"
    }
   ],
   "source": [
    "#FTcpac,FTepac = pairs_for_ml(FTpv)\n",
    "CBcpac,CBepac = pairs_for_ml(CBpv)\n",
    "#SGcpac,SGepac = pairs_for_ml(SGpv)\n",
    "np.shape(CBcpac)"
   ]
  },
  {
   "cell_type": "code",
   "execution_count": 49,
   "metadata": {},
   "outputs": [],
   "source": [
    "def cal_cost(theta,X,y,method='MSE'):\n",
    "    m = len(y)\n",
    "    cost = 0\n",
    "    if method == 'ED':\n",
    "        #eucilidean distance\n",
    "        for i in range(m):\n",
    "            cost = cost + np.sqrt(np.sum(np.square(np.dot(X[i],theta) - y[i])))\n",
    "            #print(cost)\n",
    "        #print('XXX')\n",
    "        cost = 1/(2*m)*cost\n",
    "    else:\n",
    "        y_pred = []\n",
    "        for i in range(m):\n",
    "            y_pred.append(np.dot(X[i],theta))\n",
    "        mse = mean_squared_error(y, y_pred)\n",
    "        cost = np.sum(mse)\n",
    "    return cost"
   ]
  },
  {
   "cell_type": "code",
   "execution_count": 50,
   "metadata": {},
   "outputs": [],
   "source": [
    "def gradient_descent(X,y,theta,learning_rate=0.01,iterations=100,how='MSE'):\n",
    "    m = len(y)\n",
    "    print('訓練資料組數 =',m)\n",
    "    cost_history = np.zeros(iterations)\n",
    "    #theta_history = np.zeros((iterations,768,768))\n",
    "    for it in range(iterations):\n",
    "        prediction = np.dot(X,theta)\n",
    "        result = prediction-y\n",
    "        theta = theta - (1/m)*learning_rate*(np.dot(X.T,result))   \n",
    "        #theta_history[it,:] = theta.T\n",
    "        cost_history[it]  = cal_cost(theta,X,y,method=how)\n",
    "        if it%1000==0:\n",
    "            print(it,cost_history[it])\n",
    "    #return theta, cost_history, theta_history\n",
    "    return theta, cost_history"
   ]
  },
  {
   "cell_type": "code",
   "execution_count": 51,
   "metadata": {},
   "outputs": [
    {
     "name": "stdout",
     "output_type": "stream",
     "text": [
      "訓練資料組數 = 5771\n",
      "0 1.3132868365334065\n",
      "1000 1.1966797416241435\n",
      "2000 1.1784083898311635\n",
      "3000 1.1705817016826763\n",
      "4000 1.1659788852112647\n",
      "5000 1.1628380468290762\n",
      "6000 1.160506600486461\n",
      "7000 1.1586795150324232\n",
      "8000 1.1571925116034234\n",
      "9000 1.1559482288256988\n"
     ]
    }
   ],
   "source": [
    "theta = np.zeros((200,200))\n",
    "#FastText, FTcost_history = gradient_descent(FTcpac,FTepac,theta,0.001,10000)\n",
    "Cbow, CBcost_history = gradient_descent(CBcpac,CBepac,theta,0.001,10000)\n",
    "#Skipgram, SGcost_history = gradient_descent(SGcpac,SGepac,theta,0.001,10000)"
   ]
  },
  {
   "cell_type": "code",
   "execution_count": 214,
   "metadata": {},
   "outputs": [
    {
     "data": {
      "image/png": "[encoded data removed]",
      "text/plain": [
       "<Figure size 432x288 with 1 Axes>"
      ]
     },
     "metadata": {
      "needs_background": "light"
     },
     "output_type": "display_data"
    }
   ],
   "source": [
    "#plt.plot(FTcost_history)\n",
    "#plt.plot(CBcost_history)\n",
    "#plt.plot(SGcost_history)\n",
    "\n",
    "plt.title('Cost History')\n",
    "plt.plot(FTcost_history, color='green', label='FT')\n",
    "plt.plot(CBcost_history, color='red', label='CB')\n",
    "plt.plot(SGcost_history,  color='skyblue', label='SG')\n",
    "plt.legend() # 显示图例\n",
    "plt.xlabel('iteration times')\n",
    "plt.ylabel('loss')\n",
    "plt.show()"
   ]
  },
  {
   "cell_type": "code",
   "execution_count": 89,
   "metadata": {},
   "outputs": [],
   "source": [
    "#Best For Now\n",
    "#trans_matrix100, cost_history100 = gradient_descent(chcombined[:100],encombined[:100],theta,0.001,5000)"
   ]
  },
  {
   "cell_type": "code",
   "execution_count": 90,
   "metadata": {},
   "outputs": [],
   "source": [
    "target_vector = ['一','二','三','四','五','六','七','八','九']\n",
    "target_vectorname = ['1','2','3','4','5','6','7','8','9']\n",
    "#target_vector = ['紅色','綠色','藍色','黃色','紫色','白色','黑色','橙色']\n",
    "#target_vectorname = ['red','green','blue','yellow','purple','white','black','orange']"
   ]
  },
  {
   "cell_type": "code",
   "execution_count": 186,
   "metadata": {},
   "outputs": [
    {
     "name": "stdout",
     "output_type": "stream",
     "text": [
      "ch   Ftxt    Cbow    Skip\n",
      "-------------------------\n",
      "一  0.4246  0.7708  0.4378\n",
      "二  0.5194  0.9367  0.6094\n",
      "三  0.4909  0.8709  0.5264\n",
      "四  0.5431  0.9176  0.6320\n",
      "五  0.5644  0.8925  0.6677\n",
      "六  0.5987  0.8723  0.6691\n",
      "七  0.6084  0.7784  0.7395\n",
      "八  0.6552  0.7975  0.7371\n",
      "九  0.5891  0.7556  0.7609\n"
     ]
    }
   ],
   "source": [
    "pairs = sorted(pairs)\n",
    "ans = [[],[],[]]\n",
    "print(\"%s %6s  %6s  %6s\" % ('ch','Ftxt','Cbow','Skip'))\n",
    "print('-------------------------')\n",
    "for line in FTpv:\n",
    "    if line[2] in target_vector:\n",
    "        #ans[0].append(1-spatial.distance.cosine(line[0],line[1]))\n",
    "        ans[0].append(1-spatial.distance.cosine(np.dot(line[0],FastText),line[1]))\n",
    "for line in CBpv:\n",
    "    if line[2] in target_vector:\n",
    "        ans[1].append(1-spatial.distance.cosine(np.dot(line[0],Cbow),line[1]))\n",
    "for line in SGpv:\n",
    "    if line[2] in target_vector:\n",
    "        ans[2].append(1-spatial.distance.cosine(np.dot(line[0],Skipgram),line[1]))\n",
    "for i in range(0,len(target_vector)):\n",
    "    print(\"%s  %.4f  %.4f  %.4f\" % (target_vector[i],ans[0][i],ans[1][i],ans[2][i]))"
   ]
  },
  {
   "cell_type": "code",
   "execution_count": 56,
   "metadata": {},
   "outputs": [],
   "source": [
    "def draw_scatter_plot(Df,tag,col='yellow'):\n",
    "    plt.subplots_adjust(bottom = 0.1)\n",
    "    plt.scatter(Df['component 1'], Df['component 2'])\n",
    "    for label, x, y in zip(tag,Df['component 1'],Df['component 2']):\n",
    "        plt.annotate(\n",
    "            label,\n",
    "            xy=(x, y), xytext=(-20, 20),\n",
    "            textcoords='offset points', ha='right', va='bottom',\n",
    "            bbox=dict(boxstyle='round,pad=0.5', fc=col, alpha=0.5),\n",
    "            arrowprops=dict(arrowstyle = '->', connectionstyle='arc3,rad=0'))\n",
    "    plt.show()"
   ]
  },
  {
   "cell_type": "code",
   "execution_count": 57,
   "metadata": {},
   "outputs": [],
   "source": [
    "def precision_at_5_experiment(target,model,pairvector,trans_matrix):\n",
    "    pca = PCA(n_components=2)\n",
    "    cv = []\n",
    "    output = []\n",
    "    noutput = []\n",
    "    for word in target:\n",
    "        for i in range(0,len(pairvector)):\n",
    "            if word == pairvector[i][2]:\n",
    "                vec = model[word]\n",
    "                cv.append(np.dot(vec,trans_matrix))\n",
    "                break        \n",
    "    for i in range(0,len(cv)):\n",
    "        for j in range(0,len(pairvector)): \n",
    "            cos = 1-spatial.distance.cosine(cv[i],pairvector[j][1])\n",
    "            output.append([cos,pairvector[j][3]])\n",
    "        output = sorted(output,reverse=True)\n",
    "        for x in range(0,len(output)):\n",
    "            if not output[x][1] == output[x-1][1]:\n",
    "                noutput.append(output[x]) \n",
    "        print(target[i+1])\n",
    "        for x in range(0,5):\n",
    "            print(noutput[x])\n",
    "        output = []\n",
    "        noutput = []"
   ]
  },
  {
   "cell_type": "code",
   "execution_count": 220,
   "metadata": {},
   "outputs": [],
   "source": [
    "tvec = ['中國','電腦','醫學','管理','論文']\n",
    "#precision_at_5_experiment(tvec,FTzh,FTpv,FastText)\n",
    "#precision_at_5_experiment(tvec,CBzh,CBpv,Cbow)\n",
    "#precision_at_5_experiment(tvec,SGzh,SGpv,Skipgram)"
   ]
  },
  {
   "cell_type": "code",
   "execution_count": 221,
   "metadata": {},
   "outputs": [],
   "source": [
    "def exp1(pairvector,trans_matrix):\n",
    "    cost = 0\n",
    "    for i in range(0,len(pairvector)):\n",
    "        if pairvector[i][2] in tvec:\n",
    "            #cost = cost + np.sqrt(np.sum(np.square(np.dot(pairvector[i][0],trans_matrix) - pairvector[i][1])))\n",
    "            #print(cost)\n",
    "            tmp = np.dot(pairvector[i][0],trans_matrix)\n",
    "            print(pairvector[i][2],pairvector[i][3],1-spatial.distance.cosine(tmp,pairvector[i][1]))"
   ]
  },
  {
   "cell_type": "code",
   "execution_count": 223,
   "metadata": {},
   "outputs": [
    {
     "name": "stdout",
     "output_type": "stream",
     "text": [
      "FastText\n",
      "論文 paper 0.576124019679362\n",
      "管理 supervise 0.6647021927229927\n",
      "電腦 computer 0.6693576657387231\n",
      "醫學 medicine 0.7549030919048689\n",
      "中國 China 0.7391015138060255\n",
      "Cbow\n",
      "論文 paper 0.9250620289915188\n",
      "管理 supervise 0.4910860972275758\n",
      "電腦 computer 0.844917873882037\n",
      "醫學 medicine 0.7859497952124085\n",
      "中國 China 0.8340624538765047\n",
      "Skipgram\n",
      "論文 paper 0.5880199023045968\n",
      "管理 supervise 0.82973481144601\n",
      "電腦 computer 0.7431381497251588\n",
      "醫學 medicine 0.7765523807749632\n",
      "中國 China 0.7803549028208635\n"
     ]
    }
   ],
   "source": [
    "print('FastText')\n",
    "exp1(FTpv,FastText)\n",
    "print('Cbow')\n",
    "exp1(CBpv,Cbow)\n",
    "print('Skipgram')\n",
    "exp1(SGpv,Skipgram)"
   ]
  },
  {
   "cell_type": "code",
   "execution_count": 54,
   "metadata": {},
   "outputs": [],
   "source": [
    "def scatter_plot_experiment(pairvector,target,tag,trans_matrix):\n",
    "    ev = []\n",
    "    cv = []\n",
    "    pca = PCA(n_components=2)\n",
    "    for dom in target:\n",
    "        for line in pairvector:\n",
    "            if line[2]==dom:\n",
    "                #print(dom)\n",
    "                ev.append(np.asarray(line[1]))\n",
    "                cv.append(np.asarray(np.dot(line[0],trans_matrix)))\n",
    "    ev = np.array(ev)\n",
    "    cv = np.array(cv)\n",
    "    evpca = pca.fit_transform(ev)\n",
    "    cvpca = pca.fit_transform(cv)\n",
    "    #evpca = preprocessing.scale(evpca)\n",
    "    #cvpca = preprocessing.scale(cvpca)\n",
    "    evDf = pd.DataFrame(data = evpca,columns = ['component 1', 'component 2'])\n",
    "    cvDf = pd.DataFrame(data = cvpca,columns = ['component 1', 'component 2'])\n",
    "    draw_scatter_plot(evDf,tag)\n",
    "    draw_scatter_plot(cvDf,tag,'blue')"
   ]
  },
  {
   "cell_type": "code",
   "execution_count": 240,
   "metadata": {},
   "outputs": [
    {
     "data": {
      "image/png": "[encoded data removed]",
      "text/plain": [
       "<Figure size 432x288 with 1 Axes>"
      ]
     },
     "metadata": {
      "needs_background": "light"
     },
     "output_type": "display_data"
    },
    {
     "data": {
      "image/png": "[encoded data removed]",
      "text/plain": [
       "<Figure size 432x288 with 1 Axes>"
      ]
     },
     "metadata": {
      "needs_background": "light"
     },
     "output_type": "display_data"
    }
   ],
   "source": [
    "tvec = ['紅色','藍色','綠色','學習','論文','推特','四','五','六']\n",
    "tags = ['red','blue','green','learn','paper','twitter','4','5','6']\n",
    "#tvec = ['頭部','頸','鼻炎','臉部']\n",
    "#tvec = ['綠色','藍色']\n",
    "#tags = ['green','blue']\n",
    "#tags = ['head','neck','ill','face']\n",
    "scatter_plot_experiment(SGpv,tvec,tags,Skipgram)"
   ]
  },
  {
   "cell_type": "code",
   "execution_count": 58,
   "metadata": {},
   "outputs": [
    {
     "data": {
      "image/png": "[encoded data removed]",
      "text/plain": [
       "<Figure size 432x288 with 1 Axes>"
      ]
     },
     "metadata": {
      "needs_background": "light"
     },
     "output_type": "display_data"
    },
    {
     "data": {
      "image/png": "[encoded data removed]",
      "text/plain": [
       "<Figure size 432x288 with 1 Axes>"
      ]
     },
     "metadata": {
      "needs_background": "light"
     },
     "output_type": "display_data"
    }
   ],
   "source": [
    "tvec = ['紅色','藍色','綠色','學習','論文','推特','四','五','六']\n",
    "tags = ['red','blue','green','learn','paper','twitter','4','5','6']\n",
    "scatter_plot_experiment(CBpv,tvec,tags,Cbow)"
   ]
  },
  {
   "cell_type": "code",
   "execution_count": 241,
   "metadata": {},
   "outputs": [],
   "source": [
    "with open('FT_trans_matrix.pickle', 'wb') as f:\n",
    "    pickle.dump(FastText, f)\n",
    "with open('CB_trans_matrix.pickle', 'wb') as f:\n",
    "    pickle.dump(Cbow, f)\n",
    "with open('SG_trans_matrix.pickle', 'wb') as f:\n",
    "    pickle.dump(Skipgram, f)"
   ]
  },
  {
   "cell_type": "code",
   "execution_count": 52,
   "metadata": {},
   "outputs": [],
   "source": [
    "with open('0505_trans_matrix.pickle', 'wb') as f:\n",
    "    pickle.dump(Cbow, f)"
   ]
  },
  {
   "cell_type": "code",
   "execution_count": null,
   "metadata": {},
   "outputs": [],
   "source": []
  }
 ],
 "metadata": {
  "kernelspec": {
   "display_name": "Python 3",
   "language": "python",
   "name": "python3"
  },
  "language_info": {
   "codemirror_mode": {
    "name": "ipython",
    "version": 3
   },
   "file_extension": ".py",
   "mimetype": "text/x-python",
   "name": "python",
   "nbconvert_exporter": "python",
   "pygments_lexer": "ipython3",
   "version": "3.6.6"
  }
 },
 "nbformat": 4,
 "nbformat_minor": 2
}
