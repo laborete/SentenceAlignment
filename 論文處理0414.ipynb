{
 "cells": [
  {
   "cell_type": "code",
   "execution_count": 1,
   "metadata": {},
   "outputs": [],
   "source": [
    "import pickle"
   ]
  },
  {
   "cell_type": "code",
   "execution_count": 2,
   "metadata": {},
   "outputs": [],
   "source": [
    "from bs4 import BeautifulSoup\n",
    "import requests\n",
    "import time\n",
    "import csv\n",
    "import re\n",
    "import pandas as pd\n",
    "import requests\n",
    "import numpy as np\n",
    "from __future__ import unicode_literals \n",
    "from bosonnlp import BosonNLP\n",
    "nlp = BosonNLP('Yy7Tpb83.27824.Zdrfgp6JtKTf')\n",
    "import os\n",
    "import random\n",
    "import nltk\n",
    "Porter = nltk.stem.PorterStemmer()"
   ]
  },
  {
   "cell_type": "code",
   "execution_count": 3,
   "metadata": {},
   "outputs": [],
   "source": [
    "def readfile(filename,method='utf-8'):\n",
    "    rawlist = []\n",
    "    with open(filename,'r+', encoding=method) as csvfile:\n",
    "        rows = csv.reader(csvfile)\n",
    "        for row in rows:\n",
    "            rawlist.append(row)\n",
    "    return rawlist\n",
    "\n",
    "def writefile(filename,inputlist,method='utf-8'):\n",
    "    with open(filename,'a+', encoding=method) as csvfile:\n",
    "        writer = csv.writer(csvfile, delimiter=',')\n",
    "        for row in inputlist:\n",
    "            writer.writerow(row)\n",
    "            \n",
    "def regex(a):\n",
    "    reg = []\n",
    "    #a = re.sub('[a-zA-Z]','',a)\n",
    "    a = re.sub('[,、：；！？，。－\"\\']','#',a)\n",
    "    a = re.sub('[「」(){}:;!?]','',a)\n",
    "    a = re.sub('\\n','',a)\n",
    "    #a = re.sub('[(),{}\\u3000\\*\\|=-\\[\\]\\n.]','',a)\n",
    "    #a = re.sub(u\"\\\\（.*?\\\\）|\\\\『.*?』|\\\\「.*?」|\\\\〔.*?〕|\\\\[.*?]|\\\\〈.*?〉\", '', a)\n",
    "    reg = a.split('#')\n",
    "    return reg\n",
    "\n",
    "def en_regex(a):\n",
    "    reg = []\n",
    "    #a = re.sub('[a-zA-Z]','',a)\n",
    "    a = re.sub('[{}.:;!?：；！？，。－\"\\']','#',a)\n",
    "    a = re.sub('[、「」()]','',a)\n",
    "    a = re.sub(',',' ',a)\n",
    "    a = re.sub('\\n','',a)\n",
    "    #a = re.sub('[(),{}\\u3000\\*\\|=-\\[\\]\\n.]','',a)\n",
    "    #a = re.sub(u\"\\\\（.*?\\\\）|\\\\『.*?』|\\\\「.*?」|\\\\〔.*?〕|\\\\[.*?]|\\\\〈.*?〉\", '', a)\n",
    "    reg = a.split('#')\n",
    "    return reg\n",
    "\n",
    "def isEnglish(s):\n",
    "    try:\n",
    "        s.encode(encoding='utf-8').decode('ascii')\n",
    "    except UnicodeDecodeError:\n",
    "        return False\n",
    "    else:\n",
    "        return True"
   ]
  },
  {
   "cell_type": "code",
   "execution_count": 4,
   "metadata": {},
   "outputs": [
    {
     "name": "stdout",
     "output_type": "stream",
     "text": [
      "There are 19562 files.\n",
      "./Abstract_Engineer/60001c.txt\n"
     ]
    }
   ],
   "source": [
    "filepath = './Abstract_Engineer/'\n",
    "dirnames = os.listdir(filepath) \n",
    "#dirnames.remove('.DS_Store')\n",
    "filenames = []\n",
    "#print(dirnames)\n",
    "for name in dirnames:\n",
    "        if not name=='.DS_Store':\n",
    "            filenames.append(filepath+name)\n",
    "filenames = sorted(filenames)\n",
    "print('There are',len(filenames),'files.')\n",
    "print(filenames[2])"
   ]
  },
  {
   "cell_type": "code",
   "execution_count": 5,
   "metadata": {},
   "outputs": [
    {
     "name": "stdout",
     "output_type": "stream",
     "text": [
      "9781 9781\n"
     ]
    }
   ],
   "source": [
    "chinese_file = []\n",
    "english_file = []\n",
    "for file in filenames: \n",
    "    if not os.path.isdir(file):\n",
    "        string = \"\"\n",
    "        title = \"\"\n",
    "        try:\n",
    "            src_lat1 = readfile(file)\n",
    "            for word in src_lat1[0]: \n",
    "                title = title + word\n",
    "            for word in src_lat1[1]: \n",
    "                string = string + word\n",
    "        except:\n",
    "            print(file)\n",
    "            #src_utf8 = readfile(filename=filepath+'/'+file,method='utf-16le')\n",
    "            #for word in src_utf8[0]: \n",
    "            #    str = str + word\n",
    "            #for word in src_utf8[1]: \n",
    "            #    str = str + word\n",
    "            try:\n",
    "                src_lat1 = readfile(filename=file)\n",
    "                for word in src_lat1[0]: \n",
    "                    title = title + word\n",
    "                for word in src_lat1[1]: \n",
    "                    string = string + word\n",
    "            except:\n",
    "                print('QQ')\n",
    "        if 'c.txt' in file and not 'doc' in file:\n",
    "            chinese_file.append([title,string])\n",
    "        elif 'e.txt' in file and not 'doc' in file:\n",
    "            english_file.append([title,string])\n",
    "print(len(chinese_file),len(english_file))"
   ]
  },
  {
   "cell_type": "code",
   "execution_count": 6,
   "metadata": {},
   "outputs": [],
   "source": [
    "alignment = []\n",
    "for i in range(0,len(chinese_file)):\n",
    "    tmp = regex(chinese_file[i][1])\n",
    "    for j in range(0,len(tmp)):\n",
    "        if len(tmp[j])<=3 and j<(len(tmp)-1):\n",
    "            tmp[j+1] = tmp[j]+tmp[j+1]\n",
    "    #for j in range(0,len(tmp)):\n",
    "    #    if len(tmp[j])<=2:\n",
    "    #        tmp = tmp[:j]+tmp[j+1:]\n",
    "    alignment.append([tmp,en_regex(english_file[i][1])])"
   ]
  },
  {
   "cell_type": "code",
   "execution_count": 7,
   "metadata": {},
   "outputs": [],
   "source": [
    "for i in range(0,len(alignment)):\n",
    "    string = ''\n",
    "    for ju in alignment[i][0]:\n",
    "        if len(ju)>3:\n",
    "            string = string+'#'+ju\n",
    "    alignment[i].append(string)"
   ]
  },
  {
   "cell_type": "code",
   "execution_count": 8,
   "metadata": {},
   "outputs": [
    {
     "data": {
      "text/plain": [
       "[['本論文開發一套分散型移動式混合電力站',\n",
       "  '整合燃料電池混合電力電動車及定置型電力站',\n",
       "  '使其能依照各地負載狀況',\n",
       "  '結合儲能元件及地區再生能源形成微電網',\n",
       "  '機動調度移動式電力站的數量與位置',\n",
       "  '達到能源共享',\n",
       "  '以增進系統穩定性',\n",
       "  '並降低系統總成本',\n",
       "  ''],\n",
       " ['This thesis develops mobile power systems that consists of stationary hybrid power systems and hybrid power electric vehicles HEVs',\n",
       "  ' The stationary power systems can be constructed according to local conditions while the HEVs can support multiple stationary stations to sustain power supply and to reduce system costs',\n",
       "  ''],\n",
       " '#本論文開發一套分散型移動式混合電力站#整合燃料電池混合電力電動車及定置型電力站#使其能依照各地負載狀況#結合儲能元件及地區再生能源形成微電網#機動調度移動式電力站的數量與位置#達到能源共享#以增進系統穩定性#並降低系統總成本']"
      ]
     },
     "execution_count": 8,
     "metadata": {},
     "output_type": "execute_result"
    }
   ],
   "source": [
    "alignment[0]"
   ]
  },
  {
   "cell_type": "code",
   "execution_count": 9,
   "metadata": {},
   "outputs": [
    {
     "name": "stdout",
     "output_type": "stream",
     "text": [
      "0\n",
      "100\n",
      "200\n",
      "300\n",
      "400\n",
      "500\n",
      "600\n",
      "700\n",
      "800\n",
      "900\n",
      "1000\n",
      "1100\n",
      "1200\n",
      "1300\n",
      "1400\n",
      "1500\n",
      "1600\n",
      "1700\n",
      "1800\n",
      "1900\n",
      "2000\n",
      "2100\n",
      "2200\n",
      "2300\n",
      "2400\n",
      "2500\n",
      "2600\n",
      "2700\n",
      "2800\n",
      "2900\n",
      "3000\n",
      "3100\n",
      "3200\n",
      "3300\n",
      "3400\n",
      "3500\n",
      "3600\n",
      "3700\n",
      "3800\n",
      "3900\n",
      "4000\n",
      "4100\n",
      "4200\n",
      "4300\n",
      "4400\n",
      "4500\n",
      "4600\n",
      "4700\n",
      "4800\n",
      "4900\n",
      "5000\n",
      "5100\n",
      "5200\n",
      "5300\n",
      "5400\n",
      "5500\n",
      "5600\n",
      "5700\n",
      "5800\n",
      "5900\n",
      "6000\n",
      "6100\n",
      "6200\n",
      "6300\n",
      "6400\n",
      "6500\n",
      "6600\n",
      "6700\n",
      "6800\n",
      "6900\n",
      "7000\n",
      "7100\n",
      "7200\n",
      "7300\n",
      "7400\n",
      "7500\n",
      "7600\n",
      "7700\n",
      "7800\n",
      "7900\n",
      "8000\n",
      "8100\n",
      "8200\n",
      "8300\n",
      "8400\n",
      "8500\n",
      "8600\n",
      "8700\n",
      "8800\n",
      "8900\n",
      "9000\n",
      "9100\n",
      "9200\n",
      "9300\n",
      "9400\n",
      "9500\n",
      "9600\n",
      "9700\n"
     ]
    }
   ],
   "source": [
    "#boson\n",
    "tmp = []\n",
    "tmp2 = []\n",
    "chcut = []\n",
    "for j in range(0,len(alignment)):\n",
    "    head = -1\n",
    "    try:\n",
    "        result = nlp.tag(alignment[j][2])\n",
    "        for i in range(0,len(result[0]['word'])):\n",
    "            if result[0]['word'][i] == '#':\n",
    "                tmp2.append(tmp)\n",
    "                tmp = []\n",
    "            else:\n",
    "                tmp.append(result[0]['word'][i])\n",
    "        chcut.append(tmp2)\n",
    "        tmp = []\n",
    "        tmp2 = [] \n",
    "    except:\n",
    "        print('summary',i,'does not work.')\n",
    "    if (j%100==0):\n",
    "        print(j)"
   ]
  },
  {
   "cell_type": "code",
   "execution_count": 10,
   "metadata": {},
   "outputs": [],
   "source": [
    "tmp = []\n",
    "encut = []\n",
    "for i in range(0,len(alignment)):\n",
    "    for sent in alignment[i][1]:\n",
    "        tmp.append(sent.split())\n",
    "    encut.append(tmp)\n",
    "    tmp = []"
   ]
  },
  {
   "cell_type": "code",
   "execution_count": 11,
   "metadata": {},
   "outputs": [],
   "source": [
    "with open('paper_chcutENG.pickle', 'wb') as f:\n",
    "    pickle.dump(chcut,f)\n",
    "with open('paper_encutENG.pickle', 'wb') as f:\n",
    "    pickle.dump(encut,f)"
   ]
  },
  {
   "cell_type": "code",
   "execution_count": null,
   "metadata": {},
   "outputs": [],
   "source": []
  }
 ],
 "metadata": {
  "kernelspec": {
   "display_name": "Python 3",
   "language": "python",
   "name": "python3"
  },
  "language_info": {
   "codemirror_mode": {
    "name": "ipython",
    "version": 3
   },
   "file_extension": ".py",
   "mimetype": "text/x-python",
   "name": "python",
   "nbconvert_exporter": "python",
   "pygments_lexer": "ipython3",
   "version": "3.6.6"
  }
 },
 "nbformat": 4,
 "nbformat_minor": 2
}
