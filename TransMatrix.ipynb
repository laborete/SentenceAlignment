{
 "cells": [
  {
   "cell_type": "code",
   "execution_count": 1,
   "metadata": {},
   "outputs": [],
   "source": [
    "from bert_serving.client import BertClient\n",
    "import numpy as np\n",
    "import pandas as pd\n",
    "import nltk\n",
    "Porter = nltk.stem.PorterStemmer()\n",
    "import csv\n",
    "import pickle\n",
    "import re\n",
    "import random\n",
    "import matplotlib.pyplot as plt\n",
    "from sklearn.metrics import mean_squared_error\n",
    "from sklearn.decomposition import PCA\n",
    "from sklearn import preprocessing\n",
    "from scipy import spatial\n",
    "import pickle"
   ]
  },
  {
   "cell_type": "code",
   "execution_count": 2,
   "metadata": {},
   "outputs": [],
   "source": [
    "def readfile(filename,method='utf-8'):\n",
    "    rawlist = []\n",
    "    with open(filename,'r+', encoding=method) as csvfile:\n",
    "        rows = csv.reader(csvfile)\n",
    "        for row in rows:\n",
    "            rawlist.append(row)\n",
    "    return rawlist\n",
    "\n",
    "def writefile(filename,inputlist,method='utf-8'):\n",
    "    with open(filename,'a+', encoding=method) as csvfile:\n",
    "        writer = csv.writer(csvfile, delimiter=',')\n",
    "        for row in inputlist:\n",
    "            writer.writerow(row)\n",
    "            \n",
    "def regex(a):\n",
    "    reg = []\n",
    "    #a = re.sub('[a-zA-Z]','',a)\n",
    "    a = re.sub('[,、：；！？，。－\"\\']','#',a)\n",
    "    a = re.sub('[「」(){}:;!?]','',a)\n",
    "    a = re.sub('\\n','',a)\n",
    "    #a = re.sub('[(),{}\\u3000\\*\\|=-\\[\\]\\n.]','',a)\n",
    "    #a = re.sub(u\"\\\\（.*?\\\\）|\\\\『.*?』|\\\\「.*?」|\\\\〔.*?〕|\\\\[.*?]|\\\\〈.*?〉\", '', a)\n",
    "    reg = a.split('#')\n",
    "    return reg\n",
    "\n",
    "def en_regex(a):\n",
    "    #a = re.sub('[a-zA-Z]','',a)\n",
    "    a = re.sub('[(){}.:,;!?：；！？，。－\"\\']','',a)\n",
    "    #a = re.sub(',',' ',a)\n",
    "    #a = re.sub('\\n','',a)\n",
    "    #a = re.sub('[(),{}\\u3000\\*\\|=-\\[\\]\\n.]','',a)\n",
    "    #a = re.sub(u\"\\\\（.*?\\\\）|\\\\『.*?』|\\\\「.*?」|\\\\〔.*?〕|\\\\[.*?]|\\\\〈.*?〉\", '', a)\n",
    "    if not a.find('to ')==-1:\n",
    "        a = a[a.find('to ')+3:]\n",
    "    return a\n",
    "\n",
    "def isEnglish(s):\n",
    "    try:\n",
    "        s.encode(encoding='utf-8').decode('ascii')\n",
    "    except UnicodeDecodeError:\n",
    "        return False\n",
    "    else:\n",
    "        return True"
   ]
  },
  {
   "cell_type": "code",
   "execution_count": 198,
   "metadata": {},
   "outputs": [],
   "source": [
    "bc = BertClient()"
   ]
  },
  {
   "cell_type": "code",
   "execution_count": 3,
   "metadata": {},
   "outputs": [
    {
     "data": {
      "text/plain": [
       "114442"
      ]
     },
     "execution_count": 3,
     "metadata": {},
     "output_type": "execute_result"
    }
   ],
   "source": [
    "adictsrc = readfile('zh_en_dict.csv')\n",
    "adict = dict()\n",
    "for i in range(0,len(adictsrc)):\n",
    "    adict[adictsrc[i][0]] = adictsrc[i][1:]\n",
    "len(adict)"
   ]
  },
  {
   "cell_type": "code",
   "execution_count": 4,
   "metadata": {},
   "outputs": [],
   "source": [
    "with open('bertvectors1.pickle', 'rb') as file:\n",
    "    tmpd1 = pickle.load(file)\n",
    "with open('bertvectors2.pickle', 'rb') as file:\n",
    "    tmpd2 = pickle.load(file)\n",
    "with open('bertvectors3.pickle', 'rb') as file:\n",
    "    tmpd3 = pickle.load(file)\n",
    "with open('bertvectors4.pickle', 'rb') as file:\n",
    "    tmpd4 = pickle.load(file)\n",
    "bertvectors = {**tmpd1, **tmpd2, **tmpd3, **tmpd4}"
   ]
  },
  {
   "cell_type": "code",
   "execution_count": 5,
   "metadata": {},
   "outputs": [],
   "source": [
    "with open('chinese_bertvectors.pickle', 'rb') as file:\n",
    "    chinese_bertvectors = pickle.load(file)"
   ]
  },
  {
   "cell_type": "code",
   "execution_count": 6,
   "metadata": {},
   "outputs": [],
   "source": [
    "chcut = []\n",
    "with (open('chcut.pickle', \"rb\")) as openfile:\n",
    "    chcut = pickle.load(openfile)\n",
    "encut = []\n",
    "with (open('encut.pickle', \"rb\")) as openfile:\n",
    "    encut = pickle.load(openfile)"
   ]
  },
  {
   "cell_type": "code",
   "execution_count": 7,
   "metadata": {},
   "outputs": [],
   "source": [
    "with open('chvector.pickle', 'rb') as file:\n",
    "    chvector = pickle.load(file)\n",
    "with open('envector.pickle', 'rb') as file:\n",
    "    envector = pickle.load(file)"
   ]
  },
  {
   "cell_type": "code",
   "execution_count": 8,
   "metadata": {},
   "outputs": [],
   "source": [
    "ch_dic = []\n",
    "for i in range(0,len(chcut)):\n",
    "    for j in range(0,len(chcut[i])):\n",
    "        for word in chcut[i][j]:\n",
    "            if word not in ch_dic:\n",
    "                ch_dic.append(word)"
   ]
  },
  {
   "cell_type": "code",
   "execution_count": 9,
   "metadata": {},
   "outputs": [],
   "source": [
    "pairs = []\n",
    "for word in ch_dic:\n",
    "    try:\n",
    "        means = adict[word]\n",
    "    except:\n",
    "        continue\n",
    "    if len(means)==1 and isEnglish(means[0]) and len(means[0])>=2:\n",
    "        tmp = en_regex(means[0]).strip()\n",
    "        if not len(tmp.split())>3 and not len(tmp)>20:\n",
    "            pairs.append([word,tmp])"
   ]
  },
  {
   "cell_type": "code",
   "execution_count": 10,
   "metadata": {},
   "outputs": [
    {
     "name": "stdout",
     "output_type": "stream",
     "text": [
      "['七', 'seven']\n",
      "['三', 'three']\n",
      "['九', 'nine']\n",
      "['五', 'five']\n",
      "['八', 'eight']\n",
      "['六', 'six']\n",
      "['四', 'four']\n"
     ]
    }
   ],
   "source": [
    "chinese_numbers = ['一','二','三','四','五','六','七','八','九']\n",
    "pairs = sorted(pairs)\n",
    "for line in pairs:\n",
    "    if line[0] in chinese_numbers:\n",
    "        print(line)"
   ]
  },
  {
   "cell_type": "code",
   "execution_count": 11,
   "metadata": {},
   "outputs": [],
   "source": [
    "pairvector = []\n",
    "for i in range(0,len(pairs)):\n",
    "    if not pairs[i][1] == '':\n",
    "        ch = chvector[pairs[i][0]]\n",
    "        en = envector[pairs[i][1]]\n",
    "        #en = bc.encode([pairs[i][1]])\n",
    "    pairvector.append([ch,en,pairs[i][0],pairs[i][1]])"
   ]
  },
  {
   "cell_type": "code",
   "execution_count": 12,
   "metadata": {},
   "outputs": [
    {
     "name": "stdout",
     "output_type": "stream",
     "text": [
      "<class 'numpy.ndarray'>\n",
      "<class 'numpy.ndarray'>\n"
     ]
    }
   ],
   "source": [
    "chcombined = pairvector[0][0]\n",
    "encombined = pairvector[0][1]\n",
    "for i in range(1,len(pairvector)):\n",
    "    chcombined = np.append(chcombined,pairvector[i][0],axis=0)\n",
    "print(type(chcombined[1]))\n",
    "for i in range(1,len(pairvector)):\n",
    "    encombined = np.append(encombined,pairvector[i][1],axis=0)\n",
    "print(type(encombined[1]))"
   ]
  },
  {
   "cell_type": "code",
   "execution_count": 13,
   "metadata": {},
   "outputs": [],
   "source": [
    "def cal_cost(theta,X,y,method='MSE'):\n",
    "    m = len(y)\n",
    "    cost = 0\n",
    "  \n",
    "    if method == 'ED':\n",
    "        #eucilidean distance\n",
    "        for i in range(m):\n",
    "            cost = cost + np.sqrt(np.sum(np.square(np.dot(X[i],theta) - y[i])))\n",
    "            #print(cost)\n",
    "        #print('XXX')\n",
    "        cost = 1/(2*m)*cost\n",
    "    else:\n",
    "        y_pred = []\n",
    "        for i in range(m):\n",
    "            y_pred.append(np.dot(X[i],theta))\n",
    "        mse = mean_squared_error(y, y_pred)\n",
    "        cost = np.sum(mse)\n",
    "    return cost"
   ]
  },
  {
   "cell_type": "code",
   "execution_count": 17,
   "metadata": {},
   "outputs": [],
   "source": [
    "def gradient_descent(X,y,theta,learning_rate=0.01,iterations=100,how='MSE'):\n",
    "    m = len(y)\n",
    "    print('訓練資料組數 =',m)\n",
    "    cost_history = np.zeros(iterations)\n",
    "    #theta_history = np.zeros((iterations,768,768))\n",
    "    for it in range(iterations):\n",
    "        prediction = np.dot(X,theta)\n",
    "        result = prediction-y\n",
    "        theta = theta - (1/m)*learning_rate*(np.dot(X.T,result))   \n",
    "        #theta_history[it,:] = theta.T\n",
    "        cost_history[it]  = cal_cost(theta,X,y,method=how)\n",
    "        if it%100==0:\n",
    "            print(it,cost_history[it])\n",
    "    #return theta, cost_history, theta_history\n",
    "    return theta, cost_history"
   ]
  },
  {
   "cell_type": "code",
   "execution_count": 19,
   "metadata": {},
   "outputs": [
    {
     "name": "stdout",
     "output_type": "stream",
     "text": [
      "337 1337\n",
      "訓練資料組數 = 1851\n",
      "0 0.1387494865192668\n",
      "100 0.02459579173949868\n",
      "200 0.02301504288052404\n",
      "300 0.021949721314099047\n",
      "400 0.021177039636430972\n",
      "500 0.02057977701712758\n",
      "600 0.02009411444768164\n",
      "700 0.01968388519145352\n",
      "800 0.019327638870225598\n",
      "900 0.019012008871887028\n",
      "1000 0.01872823119558387\n",
      "1100 0.018470268361501733\n",
      "1200 0.018233768028893305\n",
      "1300 0.018015465871725412\n",
      "1400 0.0178128309801609\n",
      "1500 0.017623847349453856\n",
      "1600 0.017446874011684165\n",
      "1700 0.0172805520516058\n",
      "1800 0.01712374049658781\n",
      "1900 0.016975470591823725\n",
      "2000 0.016834912180512824\n",
      "2100 0.016701348319190044\n",
      "2200 0.016574155672542112\n",
      "2300 0.016452789082441664\n",
      "2400 0.016336769230463146\n",
      "2500 0.01622567264521586\n",
      "2600 0.016119123521699568\n",
      "2700 0.01601678696399939\n",
      "2800 0.015918363361393958\n",
      "2900 0.015823583677356524\n",
      "3000 0.01573220548087548\n",
      "3100 0.015644009586253938\n",
      "3200 0.015558797195094884\n",
      "3300 0.015476387455192869\n",
      "3400 0.015396615367323854\n",
      "3500 0.015319329983683483\n",
      "3600 0.015244392851837263\n",
      "3700 0.015171676666136058\n",
      "3800 0.015101064095072754\n",
      "3900 0.015032446758349383\n",
      "4000 0.014965724331744932\n",
      "4100 0.01490080376141902\n",
      "4200 0.014837598572207511\n",
      "4300 0.014776028256882595\n",
      "4400 0.014716017735356064\n",
      "4500 0.014657496874475547\n",
      "4600 0.014600400060459576\n",
      "4700 0.01454466581718706\n",
      "4800 0.014490236464539508\n",
      "4900 0.014437057811821868\n",
      "5000 0.014385078881987028\n",
      "5100 0.014334251662980113\n",
      "5200 0.014284530883020938\n",
      "5300 0.014235873807069406\n",
      "5400 0.014188240052082399\n",
      "5500 0.01414159141898134\n",
      "5600 0.014095891739515476\n",
      "5700 0.014051106736434052\n",
      "5800 0.014007203895576715\n",
      "5900 0.013964152348660575\n",
      "6000 0.01392192276568815\n",
      "6100 0.01388048725602698\n",
      "6200 0.0138398192773211\n",
      "6300 0.01379989355148995\n",
      "6400 0.013760685987153182\n",
      "6500 0.013722173607892402\n",
      "6600 0.01368433448582416\n",
      "6700 0.013647147680014233\n",
      "6800 0.013610593179311951\n",
      "6900 0.01357465184922653\n",
      "7000 0.013539305382505092\n",
      "7100 0.01350453625310598\n",
      "7200 0.013470327673290346\n",
      "7300 0.013436663553581757\n",
      "7400 0.013403528465366854\n",
      "7500 0.013370907605931232\n",
      "7600 0.013338786765743259\n",
      "7700 0.01330715229781549\n",
      "7800 0.01327599108898827\n",
      "7900 0.013245290532993637\n",
      "8000 0.013215038505169767\n",
      "8100 0.013185223338707202\n",
      "8200 0.01315583380231799\n",
      "8300 0.013126859079227726\n",
      "8400 0.013098288747398672\n",
      "8500 0.01307011276089944\n",
      "8600 0.013042321432343462\n",
      "8700 0.01301490541632438\n",
      "8800 0.01298785569378223\n",
      "8900 0.012961163557239188\n",
      "9000 0.012934820596848312\n",
      "9100 0.012908818687202934\n",
      "9200 0.012883149974858154\n",
      "9300 0.012857806866519578\n",
      "9400 0.012832782017857397\n",
      "9500 0.012808068322907271\n",
      "9600 0.012783658904021807\n",
      "9700 0.012759547102339347\n",
      "9800 0.012735726468738691\n",
      "9900 0.012712190755250962\n",
      "訓練資料組數 = 1851\n",
      "0 5.139599443157808\n",
      "100 1.9255392678149024\n",
      "200 1.8502794577318729\n",
      "300 1.7965626548714324\n",
      "400 1.7560673010575705\n",
      "500 1.7240434457864189\n",
      "600 1.697700976994489\n",
      "700 1.6753522135626084\n",
      "800 1.6559441948253693\n",
      "900 1.6387967922901847\n",
      "1000 1.6234532423177463\n",
      "1100 1.6095935871364753\n",
      "1200 1.5969838307468194\n",
      "1300 1.585445609423919\n",
      "1400 1.5748377889595648\n",
      "1500 1.5650450300357321\n",
      "1600 1.5559705551975542\n",
      "1700 1.54753171234609\n",
      "1800 1.5396573284456434\n",
      "1900 1.5322859330928222\n",
      "2000 1.5253643480977583\n",
      "2100 1.5188465018233333\n",
      "2200 1.5126924177122094\n",
      "2300 1.5068673337857617\n",
      "2400 1.501340930058902\n",
      "2500 1.4960866585103882\n",
      "2600 1.4910811735160177\n",
      "2700 1.4863038559333706\n",
      "2800 1.4817364190662003\n",
      "2900 1.4773625826105643\n",
      "3000 1.4731678012997056\n",
      "3100 1.4691390371232436\n",
      "3200 1.4652645665243724\n",
      "3300 1.461533816157943\n",
      "3400 1.4579372223799936\n",
      "3500 1.4544661106970613\n",
      "3600 1.45111259209894\n",
      "3700 1.4478694736911235\n",
      "3800 1.444730181431514\n",
      "3900 1.4416886931092343\n",
      "4000 1.4387394799971793\n",
      "4100 1.4358774558669993\n",
      "4200 1.4330979322750899\n",
      "4300 1.4303965792130517\n",
      "4400 1.4277693903687851\n",
      "4500 1.4252126523692046\n",
      "4600 1.42272291747764\n",
      "4700 1.420296979301674\n",
      "4800 1.4179318511348615\n",
      "4900 1.4156247466104723\n",
      "5000 1.413373062390733\n",
      "5100 1.4111743626520799\n",
      "5200 1.4090263651578305\n",
      "5300 1.4069269287357775\n",
      "5400 1.4048740420004426\n",
      "5500 1.4028658131788598\n",
      "5600 1.4009004609155202\n",
      "5700 1.3989763059469864\n",
      "5800 1.3970917635496225\n",
      "5900 1.3952453366755615\n",
      "6000 1.39343560970218\n",
      "6100 1.3916612427295665\n",
      "6200 1.3899209663681782\n",
      "6300 1.3882135769662078\n",
      "6400 1.386537932231852\n",
      "6500 1.3848929472112839\n",
      "6600 1.3832775905877541\n",
      "6700 1.3816908812709\n",
      "6800 1.380131885249323\n",
      "6900 1.3785997126820293\n",
      "7000 1.3770935152073585\n",
      "7100 1.3756124834500383\n",
      "7200 1.3741558447092024\n",
      "7300 1.372722860811811\n",
      "7400 1.371312826117658\n",
      "7500 1.3699250656633257\n",
      "7600 1.3685589334337818\n",
      "7700 1.367213810751401\n",
      "7800 1.3658891047729835\n",
      "7900 1.3645842470864977\n",
      "8000 1.3632986923997021\n",
      "8100 1.362031917313752\n",
      "8200 1.3607834191753096\n",
      "8300 1.3595527150014532\n",
      "8400 1.3583393404719033\n",
      "8500 1.3571428489837842\n",
      "8600 1.3559628107643809\n",
      "8700 1.3547988120377954\n",
      "8800 1.3536504542417098\n",
      "8900 1.3525173532908012\n",
      "9000 1.3513991388835385\n",
      "9100 1.3502954538495104\n",
      "9200 1.3492059535344292\n",
      "9300 1.3481303052204006\n",
      "9400 1.3470681875790302\n",
      "9500 1.346019290155321\n",
      "9600 1.344983312880277\n",
      "9700 1.3439599656103585\n",
      "9800 1.3429489676921746\n",
      "9900 1.3419500475506785\n"
     ]
    }
   ],
   "source": [
    "#theta = np.random.randn(768,768)\n",
    "theta = np.zeros((768,768))\n",
    "head = random.randint(0,852)\n",
    "tail = head+1000\n",
    "print(head,tail)\n",
    "trans_matrix, cost_history = gradient_descent(chcombined[:],encombined[:],theta,0.001,10000)\n",
    "ED_matrix, ED_cost_history = gradient_descent(chcombined[:],encombined[:],theta,0.001,10000,how='ED')"
   ]
  },
  {
   "cell_type": "code",
   "execution_count": 20,
   "metadata": {},
   "outputs": [
    {
     "data": {
      "text/plain": [
       "[<matplotlib.lines.Line2D at 0x7f89daa30e10>]"
      ]
     },
     "execution_count": 20,
     "metadata": {},
     "output_type": "execute_result"
    },
    {
     "data": {
      "image/png": "[encoded data removed]",
      "text/plain": [
       "<Figure size 432x288 with 1 Axes>"
      ]
     },
     "metadata": {
      "needs_background": "light"
     },
     "output_type": "display_data"
    }
   ],
   "source": [
    "plt.plot(cost_history)"
   ]
  },
  {
   "cell_type": "code",
   "execution_count": 21,
   "metadata": {},
   "outputs": [
    {
     "data": {
      "text/plain": [
       "[<matplotlib.lines.Line2D at 0x7f89da9ad2e8>]"
      ]
     },
     "execution_count": 21,
     "metadata": {},
     "output_type": "execute_result"
    },
    {
     "data": {
      "image/png": "[encoded data removed]",
      "text/plain": [
       "<Figure size 432x288 with 1 Axes>"
      ]
     },
     "metadata": {
      "needs_background": "light"
     },
     "output_type": "display_data"
    }
   ],
   "source": [
    "plt.plot(ED_cost_history)"
   ]
  },
  {
   "cell_type": "code",
   "execution_count": 22,
   "metadata": {},
   "outputs": [
    {
     "name": "stdout",
     "output_type": "stream",
     "text": [
      "訓練資料組數 = 100\n",
      "0 0.14824163880978816\n",
      "100 0.03208952110824549\n",
      "200 0.025972469878738105\n",
      "300 0.021994740958323822\n",
      "400 0.019170791170607885\n",
      "500 0.017046917116236186\n",
      "600 0.015383211858019363\n",
      "700 0.014039019560778613\n",
      "800 0.012925839863458409\n",
      "900 0.011985190244963173\n",
      "1000 0.011176976675563869\n",
      "1100 0.010472872638330175\n",
      "1200 0.009852335061247504\n",
      "1300 0.009300111160036916\n",
      "1400 0.008804630891554437\n",
      "1500 0.008356944437567944\n",
      "1600 0.007950004424638992\n",
      "1700 0.007578171225387019\n",
      "1800 0.007236865558076742\n",
      "1900 0.006922320162049705\n",
      "2000 0.006631399279950352\n",
      "2100 0.006361465316907359\n",
      "2200 0.0061102788434745535\n",
      "2300 0.005875922522671574\n",
      "2400 0.00565674245176762\n",
      "2500 0.005451302356621803\n",
      "2600 0.005258347397386172\n",
      "2700 0.005076775252580905\n",
      "2800 0.004905612781013195\n",
      "2900 0.004743997006928422\n",
      "3000 0.0045911594919496755\n",
      "3100 0.004446413387008713\n",
      "3200 0.004309142625081207\n",
      "3300 0.004178792839191794\n",
      "3400 0.00405486368232865\n",
      "3500 0.00393690229530647\n",
      "3600 0.003824497721373087\n",
      "3700 0.0037172761068316913\n",
      "3800 0.0036148965582823776\n",
      "3900 0.0035170475515459263\n",
      "4000 0.003423443806581888\n",
      "4100 0.003333823557979176\n",
      "4200 0.0032479461627934816\n",
      "4300 0.003165589997317137\n",
      "4400 0.0030865506023119555\n",
      "4500 0.0030106390427089894\n",
      "4600 0.0029376804530846777\n",
      "4700 0.002867512744595098\n",
      "4800 0.002799985452672068\n",
      "4900 0.002734958707799844\n"
     ]
    }
   ],
   "source": [
    "#Best For Now\n",
    "trans_matrix100, cost_history100 = gradient_descent(chcombined[:100],encombined[:100],theta,0.001,5000)"
   ]
  },
  {
   "cell_type": "code",
   "execution_count": 63,
   "metadata": {},
   "outputs": [],
   "source": [
    "chinese_numbers = ['四','五','六','七','八','九']\n",
    "chinese_name = ['4','5','6','7','8','9']\n",
    "\n",
    "target_vector = ['紅色','綠色','藍色','黃色','紫色','白色','黑色','橙色']\n",
    "target_vectorname = ['red','green','blue','yellow','purple','white','black','orange']\n",
    "\n",
    "\n",
    "target_vector = ['四','五','六','七','八','九']\n",
    "target_vectorname = ['4','5','6','7','8','9']\n",
    "\n",
    "#target_vector = ['我','你','他','它']\n",
    "target_vector2 = ['今天','明天','後天','昨天']\n",
    "\n",
    "chinese_numbers = ['中國','臺灣','掃描','病毒','伺服器','綠色','公里','太陽能']\n",
    "chinese_numbers = ['四','五','六','七','八','九']\n"
   ]
  },
  {
   "cell_type": "code",
   "execution_count": 64,
   "metadata": {},
   "outputs": [
    {
     "name": "stdout",
     "output_type": "stream",
     "text": [
      "ch       en   init  baseline  exp\n",
      "--------------------------------------\n",
      "七        seven 0.0644 0.9589 0.9822\n",
      "九         nine 0.0806 0.9545 0.9779\n",
      "五         five 0.0237 0.9592 0.8153\n",
      "八        eight 0.0233 0.8709 0.8391\n",
      "六          six 0.0708 0.9347 0.9822\n",
      "四         four 0.0237 0.9390 0.8603\n"
     ]
    }
   ],
   "source": [
    "pre = []\n",
    "pairs = sorted(pairs)\n",
    "print(\"%s       %s   %4s  %8s %4s\" % ('ch','en','init','baseline','exp'))\n",
    "print('--------------------------------------')\n",
    "for line in pairvector:\n",
    "    if line[2] in chinese_numbers:\n",
    "        #print(line[2])\n",
    "        pre2 = np.dot(line[0],trans_matrix100)\n",
    "        pre = np.dot(line[0],trans_matrix)\n",
    "        originalstat = 1-spatial.distance.cosine(line[0],line[1])\n",
    "        teststat2 = 1-spatial.distance.cosine(pre2,line[1])\n",
    "        teststat = 1-spatial.distance.cosine(pre,line[1])\n",
    "        print(\"%s %12s %.4f %.4f %.4f\" % (line[2],line[3],originalstat,teststat2,teststat))\n",
    "        #print(line[2],line[3],originalstat,teststat)\n"
   ]
  },
  {
   "cell_type": "code",
   "execution_count": 55,
   "metadata": {},
   "outputs": [],
   "source": [
    "def draw_scatter_plot(Df,tag,col='yellow'):\n",
    "    plt.subplots_adjust(bottom = 0.1)\n",
    "    plt.scatter(Df['component 1'], Df['component 2'])\n",
    "    for label, x, y in zip(tag,Df['component 1'],Df['component 2']):\n",
    "        plt.annotate(\n",
    "            label,\n",
    "            xy=(x, y), xytext=(-20, 20),\n",
    "            textcoords='offset points', ha='right', va='bottom',\n",
    "            bbox=dict(boxstyle='round,pad=0.5', fc=col, alpha=0.5),\n",
    "            arrowprops=dict(arrowstyle = '->', connectionstyle='arc3,rad=0'))\n",
    "    plt.show()"
   ]
  },
  {
   "cell_type": "code",
   "execution_count": 56,
   "metadata": {},
   "outputs": [],
   "source": [
    "def scatter_plot_experiment(pairvector,target,tag,trans_matrix):\n",
    "    pca = PCA(n_components=2)\n",
    "    ev = np.zeros([1,768])\n",
    "    cv = np.zeros([1,768])\n",
    "    for line in pairvector:\n",
    "        if line[2] in target:\n",
    "            ev = np.append(ev,line[1],axis=0)\n",
    "            cv = np.append(cv,np.dot(line[0],trans_matrix),axis=0)\n",
    "    ev = np.delete(ev,1,0)\n",
    "    cv = np.delete(cv,1,0)\n",
    "    evpca = pca.fit_transform(ev)\n",
    "    cvpca = pca.fit_transform(cv)\n",
    "    #evpca = preprocessing.scale(evpca)\n",
    "    #cvpca = preprocessing.scale(cvpca)\n",
    "    evDf = pd.DataFrame(data = evpca,columns = ['component 1', 'component 2'])\n",
    "    cvDf = pd.DataFrame(data = cvpca,columns = ['component 1', 'component 2'])\n",
    "    draw_scatter_plot(evDf,tag)\n",
    "    draw_scatter_plot(cvDf,tag,'blue')"
   ]
  },
  {
   "cell_type": "code",
   "execution_count": 57,
   "metadata": {},
   "outputs": [],
   "source": [
    "def precision_at_5_experiment(target,pairvector,trans_matrix):\n",
    "    pca = PCA(n_components=2)\n",
    "    cv = []\n",
    "    output = []\n",
    "    noutput = []\n",
    "    for word in target:\n",
    "        for i in range(0,len(pairvector)):\n",
    "            if word == pairvector[i][2]:\n",
    "                vec = chinese_bertvectors[word]\n",
    "                cv.append(np.dot(vec,trans_matrix))\n",
    "                break\n",
    "        \n",
    "    for i in range(0,len(cv)):\n",
    "        for j in range(0,len(pairvector)): \n",
    "            cos = 1-spatial.distance.cosine(cv[i],pairvector[j][1])\n",
    "            output.append([cos,pairvector[j][3]])\n",
    "        output = sorted(output,reverse=True)\n",
    "        for x in range(0,len(output)):\n",
    "            if not output[x][1] == output[x-1][1]:\n",
    "                noutput.append(output[x]) \n",
    "        print(target[i])\n",
    "        for x in range(0,5):\n",
    "            print(noutput[x])\n",
    "        output = []\n",
    "        noutput = []"
   ]
  },
  {
   "cell_type": "code",
   "execution_count": 58,
   "metadata": {},
   "outputs": [
    {
     "name": "stdout",
     "output_type": "stream",
     "text": [
      "中國\n",
      "[0.9576409727894944, 'neutral']\n",
      "[0.9576409727894944, 'medium']\n",
      "[0.957310864150016, 'online']\n",
      "[0.9533720694904487, 'head']\n",
      "[0.9533720694904487, 'bottom']\n",
      "臺灣\n",
      "[0.9799165899756178, 'you']\n",
      "[0.9799165899756178, 'write characters']\n",
      "[0.9799165899756178, 'worsen']\n",
      "[0.9799165899756178, 'worm']\n",
      "[0.9799165899756178, 'workpiece']\n",
      "你\n",
      "[0.9808280773110749, 'zinc']\n",
      "[0.9808280773110749, 'yttrium']\n",
      "[0.9808280773110749, 'you informal']\n",
      "[0.9808280773110749, 'you courteous']\n",
      "[0.9808280773110749, 'yes']\n",
      "病毒\n",
      "[0.9969553184379155, 'you']\n",
      "[0.9969553184379155, 'write characters']\n",
      "[0.9969553184379155, 'worsen']\n",
      "[0.9969553184379155, 'worm']\n",
      "[0.9969553184379155, 'workpiece']\n",
      "伺服器\n",
      "[0.9978773339161058, 'zinc oxide']\n",
      "[0.9978773339161058, 'worker']\n",
      "[0.9978773339161058, 'wireless']\n",
      "[0.9978773339161058, 'volatility']\n",
      "[0.9978773339161058, 'visualization']\n",
      "綠色\n",
      "[0.9908210766298114, 'you']\n",
      "[0.9908210766298114, 'write characters']\n",
      "[0.9908210766298114, 'worsen']\n",
      "[0.9908210766298114, 'worm']\n",
      "[0.9908210766298114, 'workpiece']\n",
      "公里\n",
      "[0.9578802114987794, 'public']\n",
      "[0.9578802114987794, 'meter']\n",
      "[0.9578802114987794, 'liter']\n",
      "[0.9578802114987794, 'formula']\n",
      "[0.9553747855821477, 'head']\n",
      "太陽能\n",
      "[0.9590146329193129, 'diopter']\n",
      "[0.9584107694267695, 'the tide rises']\n",
      "[0.954873066282536, 'spectroscopy']\n",
      "[0.954873066282536, 'illuminance']\n",
      "[0.9502485213849902, 'sapphire']\n"
     ]
    }
   ],
   "source": [
    "tvec = ['中國','臺灣','你','病毒','伺服器','綠色','公里','太陽能']\n",
    "#tvec = ['你','公里']\n",
    "precision_at_5_experiment(tvec,pairvector,trans_matrix)"
   ]
  },
  {
   "cell_type": "code",
   "execution_count": 61,
   "metadata": {},
   "outputs": [
    {
     "name": "stdout",
     "output_type": "stream",
     "text": [
      "中國 China 0.9406519014205574\n",
      "伺服器 server 0.9978773339161058\n",
      "公里 kilometer 0.9434222988564286\n",
      "太陽能 solar energy 0.9313017442379665\n",
      "掃描 scan 0.9966172146334824\n",
      "病毒 virus 0.9969553184379155\n",
      "綠色 green 0.9908210766298114\n",
      "臺灣 Taiwan 0.9799165899756178\n"
     ]
    }
   ],
   "source": [
    "cost = 0\n",
    "for i in range(0,len(pairvector)):\n",
    "    if pairvector[i][2] in tvec:\n",
    "        #cost = cost + np.sqrt(np.sum(np.square(np.dot(pairvector[i][0],trans_matrix) - pairvector[i][1])))\n",
    "        #print(cost)\n",
    "        tmp = np.dot(pairvector[i][0],trans_matrix)\n",
    "        print(pairvector[i][2],pairvector[i][3],1-spatial.distance.cosine(tmp,pairvector[i][1]))"
   ]
  },
  {
   "cell_type": "code",
   "execution_count": 434,
   "metadata": {},
   "outputs": [
    {
     "name": "stdout",
     "output_type": "stream",
     "text": [
      "0.9168239831924438\n"
     ]
    }
   ],
   "source": [
    "tmp2 = 0\n",
    "tmp = 0\n",
    "for i in range(0,len(pairvector)):\n",
    "    #print(pairvector[i][2])\n",
    "    if pairvector[i][3] == 'cooling water':\n",
    "        tmp = pairvector[i][1]\n",
    "    elif pairvector[i][2] == '台北':\n",
    "        tmp2 = pairvector[i][1]   \n",
    "print(1-spatial.distance.cosine(tmp2,tmp))"
   ]
  },
  {
   "cell_type": "code",
   "execution_count": 62,
   "metadata": {},
   "outputs": [
    {
     "data": {
      "image/png": "[encoded data removed]",
      "text/plain": [
       "<Figure size 432x288 with 1 Axes>"
      ]
     },
     "metadata": {
      "needs_background": "light"
     },
     "output_type": "display_data"
    },
    {
     "data": {
      "image/png": "[encoded data removed]",
      "text/plain": [
       "<Figure size 432x288 with 1 Axes>"
      ]
     },
     "metadata": {
      "needs_background": "light"
     },
     "output_type": "display_data"
    }
   ],
   "source": [
    "tvec = ['中國','臺灣','掃描','病毒','伺服器','綠色','公里','太陽能','推特','四','五','六','七','八','九','支付','新加坡','比特幣']\n",
    "tags = ['prc','tw','scan','virus','server','green','km','solar','twitter','4','5','6','7','8','9','pay','sin','Bitcoin']\n",
    "#tvec = ['頭部','頸','鼻炎','臉部']\n",
    "#tvec = ['綠色','藍色']\n",
    "#tags = ['green','blue']\n",
    "#tags = ['head','neck','ill','face']\n",
    "scatter_plot_experiment(pairvector,tvec,tags,trans_matrix)"
   ]
  },
  {
   "cell_type": "code",
   "execution_count": 36,
   "metadata": {},
   "outputs": [
    {
     "name": "stdout",
     "output_type": "stream",
     "text": [
      "訓練資料組數 = 100\n",
      "訓練資料組數 = 200\n",
      "訓練資料組數 = 300\n",
      "訓練資料組數 = 400\n",
      "訓練資料組數 = 500\n",
      "訓練資料組數 = 600\n",
      "訓練資料組數 = 700\n",
      "訓練資料組數 = 800\n",
      "訓練資料組數 = 900\n"
     ]
    }
   ],
   "source": [
    "cost_collection = []\n",
    "theta = np.zeros((768,768))\n",
    "\n",
    "for i in range(1,10):\n",
    "    trans_matrix, cost_history, theta_history = gradient_descent(chcombined[:100*i],encombined[:100*i],theta,0.001,1000)\n",
    "    cost_collection.append(cost_history)"
   ]
  },
  {
   "cell_type": "code",
   "execution_count": 66,
   "metadata": {},
   "outputs": [
    {
     "data": {
      "image/png": "[encoded data removed]",
      "text/plain": [
       "<Figure size 432x288 with 1 Axes>"
      ]
     },
     "metadata": {
      "needs_background": "light"
     },
     "output_type": "display_data"
    }
   ],
   "source": [
    "for i in range(0,len(cost_collection)):\n",
    "    plt.plot(cost_collection[i][100:])\n",
    "plt.legend(['100', '200', '300', '400', '500', '600','700','800','900'], loc='upper left')\n",
    "plt.xlabel('Iteration')\n",
    "plt.ylabel('Loss')\n",
    "#plt.show()\n",
    "#plt.savefig('different_training_pairs.png')\n",
    "plt.savefig('pairs_diff.png', bbox_inches='tight')"
   ]
  },
  {
   "cell_type": "code",
   "execution_count": 23,
   "metadata": {},
   "outputs": [],
   "source": [
    "with open('trans_matrix100.pickle', 'wb') as f:\n",
    "    pickle.dump(trans_matrix100, f)\n",
    "with open('trans_matrix.pickle', 'wb') as f:\n",
    "    pickle.dump(trans_matrix, f)\n",
    "with open('trans_matrixED.pickle', 'wb') as f:\n",
    "    pickle.dump(ED_matrix, f)"
   ]
  }
 ],
 "metadata": {
  "kernelspec": {
   "display_name": "Python 3",
   "language": "python",
   "name": "python3"
  },
  "language_info": {
   "codemirror_mode": {
    "name": "ipython",
    "version": 3
   },
   "file_extension": ".py",
   "mimetype": "text/x-python",
   "name": "python",
   "nbconvert_exporter": "python",
   "pygments_lexer": "ipython3",
   "version": "3.6.7"
  }
 },
 "nbformat": 4,
 "nbformat_minor": 2
}
