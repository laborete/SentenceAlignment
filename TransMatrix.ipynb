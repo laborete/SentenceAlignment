{
 "cells": [
  {
   "cell_type": "code",
   "execution_count": 411,
   "metadata": {},
   "outputs": [],
   "source": [
    "from bert_serving.client import BertClient\n",
    "import numpy as np\n",
    "import pandas as pd\n",
    "import nltk\n",
    "Porter = nltk.stem.PorterStemmer()\n",
    "import csv\n",
    "import pickle\n",
    "import re\n",
    "import random\n",
    "import matplotlib.pyplot as plt\n",
    "from sklearn.metrics import mean_squared_error\n",
    "from sklearn.decomposition import PCA\n",
    "from sklearn import preprocessing\n",
    "from scipy import spatial\n",
    "import pickle"
   ]
  },
  {
   "cell_type": "code",
   "execution_count": 2,
   "metadata": {},
   "outputs": [],
   "source": [
    "def readfile(filename,method='utf-8'):\n",
    "    rawlist = []\n",
    "    with open(filename,'r+', encoding=method) as csvfile:\n",
    "        rows = csv.reader(csvfile)\n",
    "        for row in rows:\n",
    "            rawlist.append(row)\n",
    "    return rawlist\n",
    "\n",
    "def writefile(filename,inputlist,method='utf-8'):\n",
    "    with open(filename,'a+', encoding=method) as csvfile:\n",
    "        writer = csv.writer(csvfile, delimiter=',')\n",
    "        for row in inputlist:\n",
    "            writer.writerow(row)\n",
    "            \n",
    "def regex(a):\n",
    "    reg = []\n",
    "    #a = re.sub('[a-zA-Z]','',a)\n",
    "    a = re.sub('[,、：；！？，。－\"\\']','#',a)\n",
    "    a = re.sub('[「」(){}:;!?]','',a)\n",
    "    a = re.sub('\\n','',a)\n",
    "    #a = re.sub('[(),{}\\u3000\\*\\|=-\\[\\]\\n.]','',a)\n",
    "    #a = re.sub(u\"\\\\（.*?\\\\）|\\\\『.*?』|\\\\「.*?」|\\\\〔.*?〕|\\\\[.*?]|\\\\〈.*?〉\", '', a)\n",
    "    reg = a.split('#')\n",
    "    return reg\n",
    "\n",
    "def en_regex(a):\n",
    "    #a = re.sub('[a-zA-Z]','',a)\n",
    "    a = re.sub('[(){}.:,;!?：；！？，。－\"\\']','',a)\n",
    "    #a = re.sub(',',' ',a)\n",
    "    #a = re.sub('\\n','',a)\n",
    "    #a = re.sub('[(),{}\\u3000\\*\\|=-\\[\\]\\n.]','',a)\n",
    "    #a = re.sub(u\"\\\\（.*?\\\\）|\\\\『.*?』|\\\\「.*?」|\\\\〔.*?〕|\\\\[.*?]|\\\\〈.*?〉\", '', a)\n",
    "    if not a.find('to ')==-1:\n",
    "        a = a[a.find('to ')+3:]\n",
    "    return a\n",
    "\n",
    "def isEnglish(s):\n",
    "    try:\n",
    "        s.encode(encoding='utf-8').decode('ascii')\n",
    "    except UnicodeDecodeError:\n",
    "        return False\n",
    "    else:\n",
    "        return True"
   ]
  },
  {
   "cell_type": "code",
   "execution_count": 198,
   "metadata": {},
   "outputs": [],
   "source": [
    "bc = BertClient()"
   ]
  },
  {
   "cell_type": "code",
   "execution_count": 3,
   "metadata": {},
   "outputs": [
    {
     "data": {
      "text/plain": [
       "114442"
      ]
     },
     "execution_count": 3,
     "metadata": {},
     "output_type": "execute_result"
    }
   ],
   "source": [
    "adictsrc = readfile('zh_en_dict.csv')\n",
    "adict = dict()\n",
    "for i in range(0,len(adictsrc)):\n",
    "    adict[adictsrc[i][0]] = adictsrc[i][1:]\n",
    "len(adict)"
   ]
  },
  {
   "cell_type": "code",
   "execution_count": 4,
   "metadata": {},
   "outputs": [],
   "source": [
    "with open('bertvectors1.pickle', 'rb') as file:\n",
    "    tmpd1 = pickle.load(file)\n",
    "with open('bertvectors2.pickle', 'rb') as file:\n",
    "    tmpd2 = pickle.load(file)\n",
    "with open('bertvectors3.pickle', 'rb') as file:\n",
    "    tmpd3 = pickle.load(file)\n",
    "with open('bertvectors4.pickle', 'rb') as file:\n",
    "    tmpd4 = pickle.load(file)\n",
    "bertvectors = {**tmpd1, **tmpd2, **tmpd3, **tmpd4}"
   ]
  },
  {
   "cell_type": "code",
   "execution_count": 330,
   "metadata": {},
   "outputs": [],
   "source": [
    "with open('chinese_bertvectors.pickle', 'rb') as file:\n",
    "    chinese_bertvectors = pickle.load(file)"
   ]
  },
  {
   "cell_type": "code",
   "execution_count": 5,
   "metadata": {},
   "outputs": [],
   "source": [
    "chcut = []\n",
    "with (open('chcut.pickle', \"rb\")) as openfile:\n",
    "    chcut = pickle.load(openfile)\n",
    "encut = []\n",
    "with (open('encut.pickle', \"rb\")) as openfile:\n",
    "    encut = pickle.load(openfile)"
   ]
  },
  {
   "cell_type": "code",
   "execution_count": 6,
   "metadata": {},
   "outputs": [],
   "source": [
    "with open('chvector.pickle', 'rb') as file:\n",
    "    chvector = pickle.load(file)\n",
    "with open('envector.pickle', 'rb') as file:\n",
    "    envector = pickle.load(file)"
   ]
  },
  {
   "cell_type": "code",
   "execution_count": 7,
   "metadata": {},
   "outputs": [],
   "source": [
    "ch_dic = []\n",
    "for i in range(0,len(chcut)):\n",
    "    for j in range(0,len(chcut[i])):\n",
    "        for word in chcut[i][j]:\n",
    "            if word not in ch_dic:\n",
    "                ch_dic.append(word)"
   ]
  },
  {
   "cell_type": "code",
   "execution_count": 11,
   "metadata": {},
   "outputs": [],
   "source": [
    "pairs = []\n",
    "for word in ch_dic:\n",
    "    try:\n",
    "        means = adict[word]\n",
    "    except:\n",
    "        continue\n",
    "    if len(means)==1 and isEnglish(means[0]) and len(means[0])>=2:\n",
    "        tmp = en_regex(means[0]).strip()\n",
    "        if not len(tmp.split())>3 and not len(tmp)>20:\n",
    "            pairs.append([word,tmp])"
   ]
  },
  {
   "cell_type": "code",
   "execution_count": 17,
   "metadata": {},
   "outputs": [
    {
     "name": "stdout",
     "output_type": "stream",
     "text": [
      "['七', 'seven']\n",
      "['三', 'three']\n",
      "['九', 'nine']\n",
      "['五', 'five']\n",
      "['八', 'eight']\n",
      "['六', 'six']\n",
      "['四', 'four']\n"
     ]
    }
   ],
   "source": [
    "chinese_numbers = ['一','二','三','四','五','六','七','八','九']\n",
    "pairs = sorted(pairs)\n",
    "for line in pairs:\n",
    "    if line[0] in chinese_numbers:\n",
    "        print(line)"
   ]
  },
  {
   "cell_type": "code",
   "execution_count": 24,
   "metadata": {},
   "outputs": [],
   "source": [
    "pairvector = []\n",
    "for i in range(0,len(pairs)):\n",
    "    if not pairs[i][1] == '':\n",
    "        ch = chvector[pairs[i][0]]\n",
    "        en = envector[pairs[i][1]]\n",
    "        #en = bc.encode([pairs[i][1]])\n",
    "    pairvector.append([ch,en,pairs[i][0],pairs[i][1]])"
   ]
  },
  {
   "cell_type": "code",
   "execution_count": 25,
   "metadata": {},
   "outputs": [
    {
     "name": "stdout",
     "output_type": "stream",
     "text": [
      "<class 'numpy.ndarray'>\n",
      "<class 'numpy.ndarray'>\n"
     ]
    }
   ],
   "source": [
    "chcombined = pairvector[0][0]\n",
    "encombined = pairvector[0][1]\n",
    "for i in range(1,len(pairvector)):\n",
    "    chcombined = np.append(chcombined,pairvector[i][0],axis=0)\n",
    "print(type(chcombined[1]))\n",
    "for i in range(1,len(pairvector)):\n",
    "    encombined = np.append(encombined,pairvector[i][1],axis=0)\n",
    "print(type(encombined[1]))"
   ]
  },
  {
   "cell_type": "code",
   "execution_count": 331,
   "metadata": {},
   "outputs": [],
   "source": [
    "def cal_cost(theta,X,y,method='MSE'):\n",
    "    m = len(y)\n",
    "    cost = 0\n",
    "  \n",
    "    if method == 'ED':\n",
    "        #eucilidean distance\n",
    "        for i in range(m):\n",
    "            cost = cost + np.sqrt(np.sum(np.square(np.dot(X[i],theta) - y[i])))\n",
    "            #print(cost)\n",
    "        #print('XXX')\n",
    "        cost = 1/(2*m)*cost\n",
    "    else:\n",
    "        y_pred = []\n",
    "        for i in range(m):\n",
    "            y_pred.append(np.dot(X[i],theta))\n",
    "        mse = mean_squared_error(y, y_pred)\n",
    "        cost = np.sum(mse)\n",
    "    return cost"
   ]
  },
  {
   "cell_type": "code",
   "execution_count": 332,
   "metadata": {},
   "outputs": [],
   "source": [
    "def gradient_descent(X,y,theta,learning_rate=0.01,iterations=100):\n",
    "    m = len(y)\n",
    "    print('訓練資料組數 =',m)\n",
    "    cost_history = np.zeros(iterations)\n",
    "    #theta_history = np.zeros((iterations,768,768))\n",
    "    for it in range(iterations):\n",
    "        prediction = np.dot(X,theta)\n",
    "        result = prediction-y\n",
    "        theta = theta - (1/m)*learning_rate*(np.dot(X.T,result))   \n",
    "        #theta_history[it,:] = theta.T\n",
    "        cost_history[it]  = cal_cost(theta,X,y)   \n",
    "    #return theta, cost_history, theta_history\n",
    "    return theta, cost_history"
   ]
  },
  {
   "cell_type": "code",
   "execution_count": 431,
   "metadata": {},
   "outputs": [
    {
     "name": "stdout",
     "output_type": "stream",
     "text": [
      "422 1422\n",
      "訓練資料組數 = 1851\n"
     ]
    }
   ],
   "source": [
    "#theta = np.random.randn(768,768)\n",
    "theta = np.zeros((768,768))\n",
    "head = random.randint(0,852)\n",
    "tail = head+1000\n",
    "print(head,tail)\n",
    "trans_matrix, cost_history = gradient_descent(chcombined[:],encombined[:],theta,0.001,5000)"
   ]
  },
  {
   "cell_type": "code",
   "execution_count": 291,
   "metadata": {},
   "outputs": [
    {
     "data": {
      "text/plain": [
       "[<matplotlib.lines.Line2D at 0x7f3609d90ac8>]"
      ]
     },
     "execution_count": 291,
     "metadata": {},
     "output_type": "execute_result"
    },
    {
     "data": {
      "image/png": "[encoded data removed]",
      "text/plain": [
       "<Figure size 432x288 with 1 Axes>"
      ]
     },
     "metadata": {
      "needs_background": "light"
     },
     "output_type": "display_data"
    }
   ],
   "source": [
    "plt.plot(cost_history)"
   ]
  },
  {
   "cell_type": "code",
   "execution_count": 293,
   "metadata": {},
   "outputs": [],
   "source": [
    "#Best For Now\n",
    "trans_matrix2, cost_history = gradient_descent(chcombined[:100],encombined[:100],theta,0.001,1000)"
   ]
  },
  {
   "cell_type": "code",
   "execution_count": 305,
   "metadata": {},
   "outputs": [],
   "source": [
    "chinese_numbers = ['四','五','六','七','八','九']\n",
    "chinese_name = ['4','5','6','7','8','9']\n",
    "\n",
    "target_vector = ['紅色','綠色','藍色','黃色','紫色','白色','黑色','橙色']\n",
    "target_vectorname = ['red','green','blue','yellow','purple','white','black','orange']\n",
    "\n",
    "\n",
    "target_vector = ['四','五','六','七','八','九']\n",
    "target_vectorname = ['4','5','6','7','8','9']\n",
    "\n",
    "#target_vector = ['我','你','他','它']\n",
    "target_vector2 = ['今天','明天','後天','昨天']"
   ]
  },
  {
   "cell_type": "code",
   "execution_count": 295,
   "metadata": {},
   "outputs": [
    {
     "name": "stdout",
     "output_type": "stream",
     "text": [
      "ch  en   init  baseline  exp\n",
      "-----------------------------\n",
      "七 seven 0.0644 0.9392 0.9871\n",
      "三 three 0.0135 0.9071 0.7556\n",
      "九  nine 0.0806 0.9359 0.9863\n",
      "五  five 0.0237 0.8993 0.7213\n",
      "八 eight 0.0233 0.8418 0.7284\n",
      "六   six 0.0708 0.9357 0.9873\n",
      "四  four 0.0237 0.9211 0.7931\n"
     ]
    }
   ],
   "source": [
    "pre = []\n",
    "pairs = sorted(pairs)\n",
    "print(\"%s  %s   %4s  %8s %4s\" % ('ch','en','init','baseline','exp'))\n",
    "print('-----------------------------')\n",
    "for line in pairvector:\n",
    "    if line[2] in chinese_numbers:\n",
    "        #print(line[2])\n",
    "        pre2 = np.dot(line[0],trans_matrix2)\n",
    "        pre = np.dot(line[0],trans_matrix)\n",
    "        originalstat = 1-spatial.distance.cosine(line[0],line[1])\n",
    "        teststat2 = 1-spatial.distance.cosine(pre2,line[1])\n",
    "        teststat = 1-spatial.distance.cosine(pre,line[1])\n",
    "        print(\"%s%6s %.4f %.4f %.4f\" % (line[2],line[3],originalstat,teststat2,teststat))\n",
    "        #print(line[2],line[3],originalstat,teststat)\n"
   ]
  },
  {
   "cell_type": "code",
   "execution_count": 309,
   "metadata": {},
   "outputs": [],
   "source": [
    "def draw_scatter_plot(Df,tag,col='yellow'):\n",
    "    plt.subplots_adjust(bottom = 0.1)\n",
    "    plt.scatter(Df['component 1'], Df['component 2'])\n",
    "    for label, x, y in zip(tag,Df['component 1'],Df['component 2']):\n",
    "        plt.annotate(\n",
    "            label,\n",
    "            xy=(x, y), xytext=(-20, 20),\n",
    "            textcoords='offset points', ha='right', va='bottom',\n",
    "            bbox=dict(boxstyle='round,pad=0.5', fc=col, alpha=0.5),\n",
    "            arrowprops=dict(arrowstyle = '->', connectionstyle='arc3,rad=0'))\n",
    "    plt.show()"
   ]
  },
  {
   "cell_type": "code",
   "execution_count": 436,
   "metadata": {},
   "outputs": [],
   "source": [
    "def scatter_plot_experiment(pairvector,target,tag,trans_matrix):\n",
    "    pca = PCA(n_components=2)\n",
    "    ev = np.zeros([1,768])\n",
    "    cv = np.zeros([1,768])\n",
    "    for line in pairvector:\n",
    "        if line[2] in target:\n",
    "            ev = np.append(ev,line[1],axis=0)\n",
    "            cv = np.append(cv,np.dot(line[0],trans_matrix),axis=0)\n",
    "    ev = np.delete(ev,1,0)\n",
    "    cv = np.delete(cv,1,0)\n",
    "    evpca = pca.fit_transform(ev)\n",
    "    cvpca = pca.fit_transform(cv)\n",
    "    #evpca = preprocessing.scale(evpca)\n",
    "    #cvpca = preprocessing.scale(cvpca)\n",
    "    evDf = pd.DataFrame(data = evpca,columns = ['component 1', 'component 2'])\n",
    "    cvDf = pd.DataFrame(data = cvpca,columns = ['component 1', 'component 2'])\n",
    "    draw_scatter_plot(evDf,tag)\n",
    "    draw_scatter_plot(cvDf,tag,'blue')"
   ]
  },
  {
   "cell_type": "code",
   "execution_count": 401,
   "metadata": {},
   "outputs": [],
   "source": [
    "def precision_at_5_experiment(target,pairvector,trans_matrix):\n",
    "    pca = PCA(n_components=2)\n",
    "    cv = []\n",
    "    output = []\n",
    "    noutput = []\n",
    "    for word in target:\n",
    "        for i in range(0,len(pairvector)):\n",
    "            if word == pairvector[i][2]:\n",
    "                vec = chinese_bertvectors[word]\n",
    "                cv.append(np.dot(vec,trans_matrix))\n",
    "                break\n",
    "        \n",
    "    for i in range(0,len(cv)):\n",
    "        for j in range(0,len(pairvector)): \n",
    "            cos = 1-spatial.distance.cosine(cv[i],pairvector[j][1])\n",
    "            output.append([cos,pairvector[j][3]])\n",
    "        output = sorted(output,reverse=True)\n",
    "        for x in range(0,len(output)):\n",
    "            if not output[x][1] == output[x-1][1]:\n",
    "                noutput.append(output[x]) \n",
    "        print(target[i])\n",
    "        for x in range(0,10):\n",
    "            print(noutput[x])\n",
    "        output = []\n",
    "        noutput = []"
   ]
  },
  {
   "cell_type": "code",
   "execution_count": 433,
   "metadata": {},
   "outputs": [
    {
     "name": "stdout",
     "output_type": "stream",
     "text": [
      "你\n",
      "[0.9854154600310218, 'zinc']\n",
      "[0.9854154600310218, 'yttrium']\n",
      "[0.9854154600310218, 'you informal']\n",
      "[0.9854154600310218, 'you courteous']\n",
      "[0.9854154600310218, 'yes']\n",
      "[0.9854154600310218, 'woolen material']\n",
      "[0.9854154600310218, 'which interrogative']\n",
      "[0.9854154600310218, 'vacation']\n",
      "[0.9854154600310218, 'two']\n",
      "[0.9854154600310218, 'tutor']\n",
      "公里\n",
      "[0.959742992179294, 'head']\n",
      "[0.959742992179294, 'bottom']\n",
      "[0.9561938940498488, 'survey and evaluate']\n",
      "[0.9561938940498488, 'specified capacity']\n",
      "[0.9561938940498488, 'schedule in advance']\n",
      "[0.9561938940498488, 'constant']\n",
      "[0.9554643794842534, 'public']\n",
      "[0.9554643794842534, 'meter']\n",
      "[0.9554643794842534, 'liter']\n",
      "[0.9554643794842534, 'formula']\n"
     ]
    }
   ],
   "source": [
    "tvec = ['中國','中華','臺北','臺灣','台北','台北市','頭部','頸','鼻炎','臉部']\n",
    "tvec = ['你','公里']\n",
    "precision_at_5_experiment(tvec,new_pairvector,trans_matrix)"
   ]
  },
  {
   "cell_type": "code",
   "execution_count": 418,
   "metadata": {},
   "outputs": [
    {
     "name": "stdout",
     "output_type": "stream",
     "text": [
      "0.9486229816844303\n"
     ]
    }
   ],
   "source": [
    "cost = 0\n",
    "for i in range(0,len(pairvector)):\n",
    "    if pairvector[i][2] == '台北':\n",
    "        #cost = cost + np.sqrt(np.sum(np.square(np.dot(pairvector[i][0],trans_matrix) - pairvector[i][1])))\n",
    "        #print(cost)\n",
    "        tmp = np.dot(pairvector[i][0],trans_matrix)\n",
    "        print(1-spatial.distance.cosine(tmp,pairvector[i][1]))"
   ]
  },
  {
   "cell_type": "code",
   "execution_count": 434,
   "metadata": {},
   "outputs": [
    {
     "name": "stdout",
     "output_type": "stream",
     "text": [
      "0.9168239831924438\n"
     ]
    }
   ],
   "source": [
    "tmp2 = 0\n",
    "tmp = 0\n",
    "for i in range(0,len(pairvector)):\n",
    "    #print(pairvector[i][2])\n",
    "    if pairvector[i][3] == 'cooling water':\n",
    "        tmp = pairvector[i][1]\n",
    "    elif pairvector[i][2] == '台北':\n",
    "        tmp2 = pairvector[i][1]   \n",
    "print(1-spatial.distance.cosine(tmp2,tmp))"
   ]
  },
  {
   "cell_type": "code",
   "execution_count": 438,
   "metadata": {},
   "outputs": [
    {
     "data": {
      "image/png": "[encoded data removed]",
      "text/plain": [
       "<Figure size 432x288 with 1 Axes>"
      ]
     },
     "metadata": {
      "needs_background": "light"
     },
     "output_type": "display_data"
    },
    {
     "data": {
      "image/png": "[encoded data removed]",
      "text/plain": [
       "<Figure size 432x288 with 1 Axes>"
      ]
     },
     "metadata": {
      "needs_background": "light"
     },
     "output_type": "display_data"
    }
   ],
   "source": [
    "tvec = ['中國','中華','臺北','臺灣','台北','台北市','頭部','頸','鼻炎','臉部']\n",
    "tags = ['prc','roc','tpe','tw','tpe2','tpecity','head','neck','ill','face']\n",
    "#tvec = ['頭部','頸','鼻炎','臉部']\n",
    "tvec = ['綠色','藍色']\n",
    "tags = ['green','blue']\n",
    "#tags = ['head','neck','ill','face']\n",
    "scatter_plot_experiment(pairvector,tvec,tags,trans_matrix)"
   ]
  },
  {
   "cell_type": "code",
   "execution_count": 36,
   "metadata": {},
   "outputs": [
    {
     "name": "stdout",
     "output_type": "stream",
     "text": [
      "訓練資料組數 = 100\n",
      "訓練資料組數 = 200\n",
      "訓練資料組數 = 300\n",
      "訓練資料組數 = 400\n",
      "訓練資料組數 = 500\n",
      "訓練資料組數 = 600\n",
      "訓練資料組數 = 700\n",
      "訓練資料組數 = 800\n",
      "訓練資料組數 = 900\n"
     ]
    }
   ],
   "source": [
    "cost_collection = []\n",
    "theta = np.zeros((768,768))\n",
    "\n",
    "for i in range(1,10):\n",
    "    trans_matrix, cost_history, theta_history = gradient_descent(chcombined[:100*i],encombined[:100*i],theta,0.001,1000)\n",
    "    cost_collection.append(cost_history)"
   ]
  },
  {
   "cell_type": "code",
   "execution_count": 66,
   "metadata": {},
   "outputs": [
    {
     "data": {
      "image/png": "[encoded data removed]",
      "text/plain": [
       "<Figure size 432x288 with 1 Axes>"
      ]
     },
     "metadata": {
      "needs_background": "light"
     },
     "output_type": "display_data"
    }
   ],
   "source": [
    "for i in range(0,len(cost_collection)):\n",
    "    plt.plot(cost_collection[i][100:])\n",
    "plt.legend(['100', '200', '300', '400', '500', '600','700','800','900'], loc='upper left')\n",
    "plt.xlabel('Iteration')\n",
    "plt.ylabel('Loss')\n",
    "#plt.show()\n",
    "#plt.savefig('different_training_pairs.png')\n",
    "plt.savefig('pairs_diff.png', bbox_inches='tight')"
   ]
  },
  {
   "cell_type": "code",
   "execution_count": 315,
   "metadata": {},
   "outputs": [],
   "source": [
    "with open('trans_matrix.pickle', 'wb') as f:\n",
    "    pickle.dump(trans_matrix2, f)"
   ]
  },
  {
   "cell_type": "code",
   "execution_count": 14,
   "metadata": {},
   "outputs": [
    {
     "data": {
      "text/plain": [
       "768"
      ]
     },
     "execution_count": 14,
     "metadata": {},
     "output_type": "execute_result"
    }
   ],
   "source": [
    "len(chcombined[0])"
   ]
  }
 ],
 "metadata": {
  "kernelspec": {
   "display_name": "Python 3",
   "language": "python",
   "name": "python3"
  },
  "language_info": {
   "codemirror_mode": {
    "name": "ipython",
    "version": 3
   },
   "file_extension": ".py",
   "mimetype": "text/x-python",
   "name": "python",
   "nbconvert_exporter": "python",
   "pygments_lexer": "ipython3",
   "version": "3.6.7"
  }
 },
 "nbformat": 4,
 "nbformat_minor": 2
}
